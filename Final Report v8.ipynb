{
 "cells": [
  {
   "cell_type": "markdown",
   "id": "central-casting",
   "metadata": {},
   "source": [
    "# **Final Report - Breast Cancer Tumor Classification**\n",
    "### Professor Michael Pavlin \n",
    "### MGTA611 - Winter 2021\n",
    " "
   ]
  },
  {
   "cell_type": "markdown",
   "id": "tutorial-techno",
   "metadata": {},
   "source": [
    "## *Contents*\n",
    "\n",
    "* Introduction\n",
    "* Data\n",
    "    - Image Downloading and formatting\n",
    "* Building the Baseline Neural Network (i.e. Traditional Method)\n",
    "* Building the Convolutional Neural Network\n",
    "    - Data preprocessing \n",
    "* Data Preprocessing\n",
    "* Non-Convolutional Neural Network\n",
    "* Convolutional Neural Network\n",
    "* Modifying our ConvNet\n",
    "* Pre-Trained Convnets\n",
    "* Accuracy Measurements\n",
    "* Conclusion\n",
    "* Appendix\n",
    "\n",
    "\n",
    "## *Introduction*\n",
    "\n",
    "Although the screening of breast cancer has been found to greatly reducing mortality among breast cancer patients, there has been high rates of false positives and negatives documented in the U.S and Canada. More specifically the average sensitivity of digital mammography has been on average around 86.7% while the average specificity around 88.9%. \n",
    "\n",
    "With these numbers, it is safe to state that breast cancer detection has proved to be been a major issue for the pathologists and medical practitioners in diagnosis and treatment planning of the second leading cause of cancer deaths in the world. \n",
    "\n",
    "The manual identification of cancer from microscopic biopsy images is to some degree subjective in nature and may vary from expert to expert depending on their expertise and other factors including lack of specific and accurate quantitative measures to classify the biopsy images as harmless (benign) or cancerous (malignant) one. \n",
    "\n",
    "For this project, we aim to use Deep Learning to classify microscopic images of breast tumor tissue into benign or malignant categories to facilitate a speedy and accurate workflow to be used as an additional tool in tackling the challenges stated above. \n",
    "\n",
    "Traditionally, we know that the distinction between the two have been at times a daunting task for pathologists, resulting in the conservative approach of going the treatment route for a patient that may not have otherwise needed treatment. We aim to use Convolutional Neural Networks to create a higher level of confidence in both the diagnosis as well as the treatment of these varying cases, as well as to reduce both the emotional trauma as well as the costs associated with undergoing unnecessary treatments.\n",
    "\n",
    "We will be demonstrating our efforts to increase the accuracy of Neural Nets and for our final metrics, we aim to look at not only the prediction accuracy on our testing data, but also pay particular attention to the precision of true positives (TP), true negatives (TN), false positive (FP) and false negative (FN). \n",
    "\n",
    "Lastly, throughout this report, we have included additional information either above or inside each block code for enhanced readability. \n",
    "\n",
    "##  *Data*\n",
    "\n",
    "Our dataset is obtained from The Breast Cancer Histopathological Image Classification (BreakHis). It is composed of 9,109 microscopic images of breast tumor tissue collected from 82 patients using different magnifying factors (40X, 100X, 200X, and 400X). It contains 2,480 benign and 5,420 malignant samples (700X460 pixels, 3-channel RGB, 8-bit depth in each channel, PNG format). This database has been built in collaboration with the P&D Laboratory – Pathological Anatomy and Cytopathology, Parana, Brazil. \n",
    "\n",
    "What we really liked about this dataset compared to others was that it provided microscopic images at different levels of magnification compared to most datasets in this category which usually only provide one. This characteristic of the data paired with the limited number of images available will most likely affect the overall accuracy compared to models that are trained on only one magnification. However, this will *allow for the development of a more flexible/universal model* which can process several different magnifications of images while still being accurate enough to assist the pathologist in making a final decision.\n",
    "\n",
    "We have included the direct link to this data set here:\n",
    "\n",
    "https://web.inf.ufpr.br/vri/databases/breast-cancer-histopathological-database-breakhis/"
   ]
  },
  {
   "cell_type": "markdown",
   "id": "grand-motor",
   "metadata": {},
   "source": [
    "## Image Downloading & Formatting"
   ]
  },
  {
   "cell_type": "markdown",
   "id": "norman-customs",
   "metadata": {},
   "source": [
    "The following section is dedicated to the preparation of the data which includes:\n",
    "1. Creating the appropriate training, validation & testing folders with malignant & benign subfolders to store images.\n",
    "2. Copying all images from the original dataset into two temporary folders to split the benign and malignant images.\n",
    "3. Randomly shuffling the images to eliminate bias.\n",
    "4. Copying the images into the appropriate folders created in step 1.\n",
    "\n",
    "We will be going through each of these steps separately."
   ]
  },
  {
   "cell_type": "markdown",
   "id": "compact-triple",
   "metadata": {},
   "source": [
    "### 1. Creating the appropriate training, validation & testing folders with malignant & benign subfolders"
   ]
  },
  {
   "cell_type": "markdown",
   "id": "isolated-malawi",
   "metadata": {},
   "source": [
    "To effectively organize our data, different folders will be created and given a simple and clear name to facilitate the process of having to refer to our training, validation or test dataset for both benign and malignant images."
   ]
  },
  {
   "cell_type": "code",
   "execution_count": 1,
   "id": "becoming-crowd",
   "metadata": {},
   "outputs": [
    {
     "name": "stderr",
     "output_type": "stream",
     "text": [
      "Using TensorFlow backend.\n"
     ]
    },
    {
     "data": {
      "text/plain": [
       "'2.3.1'"
      ]
     },
     "execution_count": 1,
     "metadata": {},
     "output_type": "execute_result"
    }
   ],
   "source": [
    "import keras \n",
    "keras.__version__\n",
    "\n",
    "# Keras is a deep-learning framework for python "
   ]
  },
  {
   "cell_type": "code",
   "execution_count": 2,
   "id": "close-furniture",
   "metadata": {},
   "outputs": [],
   "source": [
    "import os, shutil\n",
    "\n",
    "# OS module in Python provides functions for interacting with the operating system\n",
    "# Shutil module helps you automate copying files and directories"
   ]
  },
  {
   "cell_type": "code",
   "execution_count": 3,
   "id": "german-relation",
   "metadata": {},
   "outputs": [],
   "source": [
    "# The path to the directory where all the benign and malignant images available will be placed\n",
    "\n",
    "original_dataset_dir = r'C:\\Users\\const\\OneDrive - mylaurier.ca\\MMA\\Winter 2021\\MGTA611 - Bus App of Artificial Intelli\\Deep Learning Project\\Data\\binary_classification\\benign_and_malignant_full'"
   ]
  },
  {
   "cell_type": "code",
   "execution_count": 4,
   "id": "architectural-academy",
   "metadata": {},
   "outputs": [],
   "source": [
    "# The directory where we will store our final dataset used in this project\n",
    "base_dir = r'C:\\Users\\const\\OneDrive - mylaurier.ca\\MMA\\Winter 2021\\MGTA611 - Bus App of Artificial Intelli\\Deep Learning Project\\benign_vs_malignant_full'\n",
    "#os.mkdir(base_dir) # Use of os.mkdir() method to create directory/file - these lines were commented out because directories were already created\n",
    "\n",
    "# Directories for our training, validation and test splits\n",
    "train_dir = os.path.join(base_dir, 'train') # Use of os.path.join() method to join various path components - in this case adding the subfolder 'train' to the the base_dir\n",
    "#os.mkdir(train_dir)\n",
    "validation_dir = os.path.join(base_dir, 'validation')\n",
    "#os.mkdir(validation_dir)\n",
    "test_dir = os.path.join(base_dir, 'test')\n",
    "#os.mkdir(test_dir)\n",
    "\n",
    "# Directory with our training benign pictures\n",
    "train_benign_dir = os.path.join(train_dir, 'benign')\n",
    "#os.mkdir(train_benign_dir)\n",
    "\n",
    "# Directory with our training malignant pictures\n",
    "train_malignant_dir = os.path.join(train_dir, 'malignant')\n",
    "#os.mkdir(train_malignant_dir)\n",
    "\n",
    "# Directory with our validation benign pictures\n",
    "validation_benign_dir = os.path.join(validation_dir, 'benign')\n",
    "#os.mkdir(validation_benign_dir)\n",
    "\n",
    "# Directory with our validation malignant pictures\n",
    "validation_malignant_dir = os.path.join(validation_dir, 'malignant')\n",
    "#os.mkdir(validation_malignant_dir)\n",
    "\n",
    "# Directory with our validation benign pictures\n",
    "test_benign_dir = os.path.join(test_dir, 'benign')\n",
    "#os.mkdir(test_benign_dir)\n",
    "\n",
    "# Directory with our validation malignant pictures\n",
    "test_malignant_dir = os.path.join(test_dir, 'malignant')\n",
    "#os.mkdir(test_malignant_dir)"
   ]
  },
  {
   "cell_type": "markdown",
   "id": "cleared-suspension",
   "metadata": {},
   "source": [
    "### 2. Copying images from the original dataset into two temporary folders (i.e. benign and malignant)"
   ]
  },
  {
   "cell_type": "markdown",
   "id": "governmental-reggae",
   "metadata": {},
   "source": [
    "The original dataset divided the images in over fifty subfolders depending on the type of malignant or benign tumor and the patient that it was collected from. For this project, we are only interested in differentiating between malignant and benign tumors. Therefore, an important step of the data preparation was to place all the malignant and benign images into two respective temporary folders to simply the process of shuffling the images and then copying them into the appropriate folders created in step 1. The two code blocks below are commented out because the step has already been completed, therefore avoiding the possible error of copying the images more than once, but it was important for us to include it to show the work in the event of wanting to run the process from scratch. Both of these steps will also be labelled separately on the top of the code block to avoid confusion."
   ]
  },
  {
   "cell_type": "markdown",
   "id": "invisible-hampton",
   "metadata": {},
   "source": [
    "The following code block copies all the benign images from the original dataset to a temporary 'benign' folder:"
   ]
  },
  {
   "cell_type": "code",
   "execution_count": 5,
   "id": "tough-norman",
   "metadata": {},
   "outputs": [],
   "source": [
    "# This is the temporary folder for all the benign images\n",
    "# TargetFolder = r'C:\\Users\\const\\OneDrive - mylaurier.ca\\MMA\\Winter 2021\\MGTA611 - Bus App of Artificial Intelli\\Deep Learning Project\\Data\\binary_classification\\benign' \n",
    "\n",
    "# This is the subfolder within the original dataset that contains all the benign images\n",
    "# RootDir1 = r'C:\\Users\\const\\OneDrive - mylaurier.ca\\MMA\\Winter 2021\\MGTA611 - Bus App of Artificial Intelli\\Deep Learning Project\\Data\\BreaKHis_v1\\histology_slides\\breast\\benign\\SOB'\n",
    "\n",
    "# This is a for loop that goes through every subfolder in the RootDir1 and copies the .png images into the TargetFolder\n",
    "# for root, dirs, files in os.walk((os.path.normpath(RootDir1)), topdown=False):\n",
    "#        for name in files:\n",
    "#            if name.endswith('.png'):\n",
    "#                SourceFolder = os.path.join(root,name)\n",
    "#                shutil.copy2(SourceFolder, TargetFolder) #copies png to new folder"
   ]
  },
  {
   "cell_type": "markdown",
   "id": "higher-puzzle",
   "metadata": {},
   "source": [
    "The following code block copies all the malignant images from the original dataset to a temporary 'malignant' folder:"
   ]
  },
  {
   "cell_type": "code",
   "execution_count": 6,
   "id": "southeast-certificate",
   "metadata": {},
   "outputs": [],
   "source": [
    "# This is the temporary folder for all the malignant images\n",
    "#TargetFolder = r'C:\\Users\\const\\OneDrive - mylaurier.ca\\MMA\\Winter 2021\\MGTA611 - Bus App of Artificial Intelli\\Deep Learning Project\\Data\\binary_classification\\malignant'\n",
    "\n",
    "# This is the subfolder within the original dataset that contains all the malignant images\n",
    "#RootDir1 = r'C:\\Users\\const\\OneDrive - mylaurier.ca\\MMA\\Winter 2021\\MGTA611 - Bus App of Artificial Intelli\\Deep Learning Project\\Data\\BreaKHis_v1\\histology_slides\\breast\\malignant\\SOB'\n",
    "\n",
    "# This is a for loop that goes through every subfolder in the RootDir1 and copies the .png images into the TargetFolder\n",
    "#for root, dirs, files in os.walk((os.path.normpath(RootDir1)), topdown=False):\n",
    "#        for name in files:\n",
    "#            if name.endswith('.png'):\n",
    "#                SourceFolder = os.path.join(root,name)\n",
    "#                shutil.copy2(SourceFolder, TargetFolder) #copies png to new folder"
   ]
  },
  {
   "cell_type": "markdown",
   "id": "joined-rubber",
   "metadata": {},
   "source": [
    "### 3. Randomly shuffling the images to eliminate bias"
   ]
  },
  {
   "cell_type": "markdown",
   "id": "excellent-allah",
   "metadata": {},
   "source": [
    "The images in the dataset were randomly shuffled within each folder to avoid providing the model with any bias during the training phase. This was done by running a simple batch script (obtained from the link below) to randomly rename every file in each directory instantly. The files would then reorder themselves based on their new file name. Following this, while maintaining this new order, the files in each directory were renamed into the appropriate format of 'benign (order #).png' or 'malignant (order #).png'. Once this was done, all the pictures from both folders were placed into the folder 'original_dataset_dir' which was defined at the beginning of the notebook.\n",
    "Furthermore, we have gone ahead and attached this process with the link below:\n",
    "\n",
    "https://www.howtogeek.com/57661/stupid-geek-tricks-randomly-rename-every-file-in-a-directory/"
   ]
  },
  {
   "cell_type": "markdown",
   "id": "municipal-architect",
   "metadata": {},
   "source": [
    "### 4. Copying the images into the appropriate folders"
   ]
  },
  {
   "cell_type": "markdown",
   "id": "expensive-integer",
   "metadata": {},
   "source": [
    "The following code block is responsible for the copying of the benign and malignant pictures from the 'original_dataset_dir' temporary folder into their respective final folders created in step 1. The process used for this step was based on a similar method outlined in the textbook \"Deep Learning with Python\" by David Chollet. It is important to note that the dataset had 2,480 benign images and 5,420 malignant (i.e. cancerous) images. Due to this being a relatively small dataset, in order to best leverage the data available, it was decided to use all the images, rather than ensuring that we used an equal amount of training images from both categories. \n",
    "\n",
    "It is also worth noting that the original dataset provided in excess of malignant (i.e. cancerous) images relative to benign, so it is in our best interest to build a model that is especially adept at identifying if a tumour is cancerous rather than is not. In many real-world cancer classification problems, we stumble upon training data with unbalanced classes where the minority class is usually the malignant case. This is the opposite of the data which was obtained.\n",
    "\n",
    "The point of the validation set is to select the epoch/iteration where the neural network is most likely to perform the best on the test set. thus, it is preferable that the distribution of classes in the validation set reflects the distribution of classes in the test set, so that performance metrics on the validation set are a good approximation of the performance metrics on the test set. In other words, the validation set should reflect the original data imbalance.\n",
    "\n",
    "As for the split between training, validation, and test, because the dataset is limited, we realised that the division ratio may play a crucial role in our models. It was decided based on best practices and with the goal to maximize the amount of data for the model to train on, to split into a 70:15:15 ratio of training, validation, and test, respectively.\n",
    "\n",
    "Here you will find the exact breakdown of these splits:\n",
    "\n",
    "* Benign: \n",
    "    * Train: 1736\n",
    "    * Validation: 372\n",
    "    * Test: 372\n",
    "* Malignant: \n",
    "    * Train: 3794\n",
    "    * Validation: 813\n",
    "    * Test: 813"
   ]
  },
  {
   "cell_type": "markdown",
   "id": "accessible-insurance",
   "metadata": {},
   "source": [
    "We now copy our images to the directories as follows:"
   ]
  },
  {
   "cell_type": "code",
   "execution_count": 7,
   "id": "healthy-victim",
   "metadata": {},
   "outputs": [],
   "source": [
    "# Copy first 1736 benign images to train_benign_dir\n",
    "fnames = ['benign ({}).png'.format(i) for i in range(1, 1737)] # Create a list of the names of the images to copied\n",
    "for fname in fnames: # For loop that copies a benign image from the original dataset folder to the new appropriate folder created\n",
    "    src = os.path.join(original_dataset_dir, fname) # Assign the specific image location to variable src \n",
    "    dst = os.path.join(train_benign_dir, fname) # Assign desired location for the image to variable dts\n",
    "    shutil.copyfile(src, dst) # copy image fname from src to dst, which in this case is the train set for benign images\n",
    "\n",
    "# Copy next 372 benign images to validation_benign_dir\n",
    "fnames = ['benign ({}).png'.format(i) for i in range(1737, 2109)]\n",
    "for fname in fnames:\n",
    "    src = os.path.join(original_dataset_dir, fname) \n",
    "    dst = os.path.join(validation_benign_dir, fname)\n",
    "    shutil.copyfile(src, dst)\n",
    "    \n",
    "# Copy next 372 benign images to test_benign_dir\n",
    "fnames = ['benign ({}).png'.format(i) for i in range(2109, 2481)]\n",
    "for fname in fnames:\n",
    "    src = os.path.join(original_dataset_dir, fname)\n",
    "    dst = os.path.join(test_benign_dir, fname)\n",
    "    shutil.copyfile(src, dst)\n",
    "    \n",
    "# Copy first 3794 malignant images to train_malignant_dir\n",
    "fnames = ['malignant ({}).png'.format(i) for i in range(1, 3795)]\n",
    "for fname in fnames:\n",
    "    src = os.path.join(original_dataset_dir, fname)\n",
    "    dst = os.path.join(train_malignant_dir, fname)\n",
    "    shutil.copyfile(src, dst)\n",
    "    \n",
    "# Copy next 813 malignant images to validation_malignant_dir\n",
    "fnames = ['malignant ({}).png'.format(i) for i in range(3795, 4608)]\n",
    "for fname in fnames:\n",
    "    src = os.path.join(original_dataset_dir, fname)\n",
    "    dst = os.path.join(validation_malignant_dir, fname)\n",
    "    shutil.copyfile(src, dst)\n",
    "    \n",
    "# Copy next 813 malignant images to test_malignant_dir\n",
    "fnames = ['malignant ({}).png'.format(i) for i in range(4608, 5421)]\n",
    "for fname in fnames:\n",
    "    src = os.path.join(original_dataset_dir, fname)\n",
    "    dst = os.path.join(test_malignant_dir, fname)\n",
    "    shutil.copyfile(src, dst)\n"
   ]
  },
  {
   "cell_type": "markdown",
   "id": "annoying-reset",
   "metadata": {},
   "source": [
    "We then confirm this process by checking the number of pictures we have in each training split (train/validation/test) as follows:"
   ]
  },
  {
   "cell_type": "code",
   "execution_count": 8,
   "id": "conscious-hampshire",
   "metadata": {},
   "outputs": [
    {
     "name": "stdout",
     "output_type": "stream",
     "text": [
      "total training benign images: 1736\n"
     ]
    }
   ],
   "source": [
    "print('total training benign images:', len(os.listdir(train_benign_dir))) # Prints the number of images in the train_benign folder"
   ]
  },
  {
   "cell_type": "code",
   "execution_count": 9,
   "id": "classified-picking",
   "metadata": {},
   "outputs": [
    {
     "name": "stdout",
     "output_type": "stream",
     "text": [
      "total training malignant images: 3794\n"
     ]
    }
   ],
   "source": [
    "print('total training malignant images:', len(os.listdir(train_malignant_dir)))"
   ]
  },
  {
   "cell_type": "code",
   "execution_count": 10,
   "id": "convertible-silly",
   "metadata": {},
   "outputs": [
    {
     "name": "stdout",
     "output_type": "stream",
     "text": [
      "total validation benign images: 372\n"
     ]
    }
   ],
   "source": [
    "print('total validation benign images:', len(os.listdir(validation_benign_dir)))"
   ]
  },
  {
   "cell_type": "code",
   "execution_count": 11,
   "id": "numeric-california",
   "metadata": {},
   "outputs": [
    {
     "name": "stdout",
     "output_type": "stream",
     "text": [
      "total validation malignant images: 813\n"
     ]
    }
   ],
   "source": [
    "print('total validation malignant images:', len(os.listdir(validation_malignant_dir)))"
   ]
  },
  {
   "cell_type": "code",
   "execution_count": 12,
   "id": "single-circus",
   "metadata": {},
   "outputs": [
    {
     "name": "stdout",
     "output_type": "stream",
     "text": [
      "total test benign images: 372\n"
     ]
    }
   ],
   "source": [
    "print('total test benign images:', len(os.listdir(test_benign_dir)))"
   ]
  },
  {
   "cell_type": "code",
   "execution_count": 13,
   "id": "correct-cache",
   "metadata": {},
   "outputs": [
    {
     "name": "stdout",
     "output_type": "stream",
     "text": [
      "total test malignant images: 813\n"
     ]
    }
   ],
   "source": [
    "print('total test malignant images:', len(os.listdir(test_malignant_dir)))"
   ]
  },
  {
   "cell_type": "markdown",
   "id": "handled-timber",
   "metadata": {},
   "source": [
    "To sum everything up, we have gathered 5530 training images, and then 1185 validation images and 1185 test images. \n",
    "\n",
    "Next, we will move from the data preparation section of our project to the next one:"
   ]
  },
  {
   "cell_type": "markdown",
   "id": "alive-frederick",
   "metadata": {},
   "source": [
    "## *3-Building our Baseline Neural Network (i.e. Traditional Method)*"
   ]
  },
  {
   "cell_type": "markdown",
   "id": "valid-commonwealth",
   "metadata": {},
   "source": [
    "To develop a baseline model, a simple structure was built starting with a single Dense layer of size 100, followed by a Flatten layer. Since this is a binary classification problem, we are ending the network with a single unit (a Dense layer of size 1) and a sigmoid activation function. "
   ]
  },
  {
   "cell_type": "code",
   "execution_count": 14,
   "id": "typical-superior",
   "metadata": {},
   "outputs": [],
   "source": [
    "from tensorflow.keras import layers # Keras is a deep-learning framework for python \n",
    "from tensorflow.keras import models # Keras is a deep-learning framework for python \n",
    "\n",
    "network = models.Sequential()\n",
    "network.add(layers.Dense(100, activation='relu', input_shape=(150, 150, 3))) # Add a Dense layer with 100 nodes and input shape of image_height=150, image_width=150 and image_channels=3\n",
    "network.add(layers.Flatten()) # Add Flatten layer which removes all of the dimensions except for one, converting the data into a 1-dimensional array for inputting it to the next layer. \n",
    "network.add(layers.Dense(1, activation='sigmoid')) # Output layer which returns a number between 0 and 1 which is interpreted as a probability for tumor class"
   ]
  },
  {
   "cell_type": "markdown",
   "id": "brutal-salvation",
   "metadata": {},
   "source": [
    "Let's take a look at how the dimensions of the feature maps change with every successive layer:"
   ]
  },
  {
   "cell_type": "code",
   "execution_count": 15,
   "id": "going-speed",
   "metadata": {},
   "outputs": [
    {
     "name": "stdout",
     "output_type": "stream",
     "text": [
      "Model: \"sequential\"\n",
      "_________________________________________________________________\n",
      "Layer (type)                 Output Shape              Param #   \n",
      "=================================================================\n",
      "dense (Dense)                (None, 150, 150, 100)     400       \n",
      "_________________________________________________________________\n",
      "flatten (Flatten)            (None, 2250000)           0         \n",
      "_________________________________________________________________\n",
      "dense_1 (Dense)              (None, 1)                 2250001   \n",
      "=================================================================\n",
      "Total params: 2,250,401\n",
      "Trainable params: 2,250,401\n",
      "Non-trainable params: 0\n",
      "_________________________________________________________________\n"
     ]
    }
   ],
   "source": [
    "network.summary()"
   ]
  },
  {
   "cell_type": "markdown",
   "id": "normal-twins",
   "metadata": {},
   "source": [
    "We see that as we move down in layers, our output shape shrinks, until it is left with a probability of classifying our image as benign or malignant. We also notice that the number of trainable params consist of 2,250,401. This will consist of an important point of comparison to the other models developed later on. \n",
    "\n",
    "For our compilation step, we'll go with the RMSprop optimizer. Since we ended our network with a single sigmoid unit, we will use binary crossentropy as our loss. This is aligned with the recommended practice in the textbook \"Deep Learning with Python\" by Francois Chollet."
   ]
  },
  {
   "cell_type": "code",
   "execution_count": 16,
   "id": "surprising-flood",
   "metadata": {},
   "outputs": [],
   "source": [
    "network.compile(optimizer='rmsprop',\n",
    "                loss='binary_crossentropy',\n",
    "                metrics=['accuracy'])"
   ]
  },
  {
   "cell_type": "markdown",
   "id": "arabic-desert",
   "metadata": {},
   "source": [
    "Now that we have our traditional model, we are ready to move on to the next step, which will be the building of a baseline convet network."
   ]
  },
  {
   "cell_type": "markdown",
   "id": "fiscal-drill",
   "metadata": {},
   "source": [
    "## *4-Building our Covolutional Neural Network*"
   ]
  },
  {
   "cell_type": "markdown",
   "id": "suburban-cambodia",
   "metadata": {},
   "source": [
    "For our baseline convnet structure, the network was inspired by a similar model laid out in the textbook \"Deep Learning with Python\" by Francois Chollet. More specifically, we built a stack of alternated Conv2D (with relu activation) and MaxPooling2D layers. Because the images we are dealing with are relatively large in size and represent a complex problem, the model will be made larger in order to take this into account. This will allow to augment the learning capacity of the model, and to further reduce the size of the feature maps, so that they are not overly large when we reach the Flatten layer. For this model, we start with our inputs of size 150x150, and we end up with feature maps of size 36x36 right before the Flatten layer.\n",
    "\n",
    "In addition, in accordance with the common practices in the field the depth of the feature maps is progressively increasing in the network (from 32 to 128), while the size of the feature maps is decreasing (from 148x148 to 36x36).\n",
    "\n",
    "Like the non-convolutional NN developed, we are ending the network with a single unit (a Dense layer of size 1) and a sigmoid activation. Allowing to encode the probability that the network is looking at one class or the other. We could have instead ended the network with a Dense layer of size 2 paired with a softmax activation, which would yield a similar results.\n",
    "\n",
    "We will begin this step by constructing a small convnet:\n"
   ]
  },
  {
   "cell_type": "code",
   "execution_count": 17,
   "id": "cardiac-memphis",
   "metadata": {},
   "outputs": [],
   "source": [
    "from tensorflow.keras import layers # Keras is a deep-learning framework for python \n",
    "from tensorflow.keras import models # Keras is a deep-learning framework for python \n",
    "\n",
    "model = models.Sequential()\n",
    "# Two Conv2D + MaxPooling2D pairs were added\n",
    "model.add(layers.Conv2D(32, (3, 3), activation='relu', input_shape=(150, 150, 3))) # add Conv2D layer - convolution done with 3x3 window and no stide, with input shape of (150, 150, 3), output 32 channels\n",
    "model.add(layers.MaxPooling2D((2, 2))) # add max-pooling layer to reduce number of feature-map coefficients to process, downsampling the feature maps by a factor of 2\n",
    "model.add(layers.Conv2D(64, (3, 3), activation='relu'))\n",
    "model.add(layers.MaxPooling2D((2, 2)))\n",
    "model.add(layers.Flatten()) # Add Flatten layer which removes all of the dimensions except for one, converting the data into a 1-dimensional array for inputting it to the next layer. \n",
    "model.add(layers.Dense(64, activation='relu')) # Add Dense layer with 64 nodes and relu activation function\n",
    "model.add(layers.Dense(1, activation='sigmoid')) # Output layer which returns a number between 0 and 1 which is interpreted as a probability for tumor class"
   ]
  },
  {
   "cell_type": "markdown",
   "id": "monthly-climate",
   "metadata": {},
   "source": [
    "Let's take a look at how the dimensions of the feature maps change with every successive layer:"
   ]
  },
  {
   "cell_type": "code",
   "execution_count": 18,
   "id": "opponent-campaign",
   "metadata": {},
   "outputs": [
    {
     "name": "stdout",
     "output_type": "stream",
     "text": [
      "Model: \"sequential_1\"\n",
      "_________________________________________________________________\n",
      "Layer (type)                 Output Shape              Param #   \n",
      "=================================================================\n",
      "conv2d (Conv2D)              (None, 148, 148, 32)      896       \n",
      "_________________________________________________________________\n",
      "max_pooling2d (MaxPooling2D) (None, 74, 74, 32)        0         \n",
      "_________________________________________________________________\n",
      "conv2d_1 (Conv2D)            (None, 72, 72, 64)        18496     \n",
      "_________________________________________________________________\n",
      "max_pooling2d_1 (MaxPooling2 (None, 36, 36, 64)        0         \n",
      "_________________________________________________________________\n",
      "flatten_1 (Flatten)          (None, 82944)             0         \n",
      "_________________________________________________________________\n",
      "dense_2 (Dense)              (None, 64)                5308480   \n",
      "_________________________________________________________________\n",
      "dense_3 (Dense)              (None, 1)                 65        \n",
      "=================================================================\n",
      "Total params: 5,327,937\n",
      "Trainable params: 5,327,937\n",
      "Non-trainable params: 0\n",
      "_________________________________________________________________\n"
     ]
    }
   ],
   "source": [
    "model.summary()"
   ]
  },
  {
   "cell_type": "markdown",
   "id": "liquid-tsunami",
   "metadata": {},
   "source": [
    "We can see how the output of each Conv2D and MaxPooling2D layer consists of a 3D tensor. It can also be noticed how the width and height dimensions shrink from layer to layer (i.e. from 148x148 to 36x36), while the depth (i.e. number of filters computed by each convolution increase from 32 to 64). We notice how the number of trainable params (i.e. +5 million) represents more than double the amount of params for the non-convnet model.\n",
    "\n",
    "For our compilation step, we will go with the RMSprop optimizer as would be expected. The RMSprop optimizer is similar to the gradient descent algorithm but with added momentum. Furthermore, since we ended our network with a single sigmoid unit, we will use binary cross-entropy as our loss as follows:"
   ]
  },
  {
   "cell_type": "code",
   "execution_count": 19,
   "id": "capable-rebound",
   "metadata": {},
   "outputs": [],
   "source": [
    "from tensorflow.keras import optimizers\n",
    "\n",
    "model.compile(loss='binary_crossentropy', # set loss function to binary crossentropy\n",
    "              optimizer=optimizers.RMSprop(lr=1e-4), # set optimizer to RMSprop with a learning rate of 1e-4\n",
    "              metrics=['acc']) # use accuracy as the metric of performance"
   ]
  },
  {
   "cell_type": "markdown",
   "id": "complex-singer",
   "metadata": {},
   "source": [
    "## Data preprocessing"
   ]
  },
  {
   "cell_type": "markdown",
   "id": "three-native",
   "metadata": {},
   "source": [
    "Before feeding the data into our network, we need to format our data into floating point tensors. The raw data consists of PNG files. Therefore, we are going to need to decode the PNG content to RBG grids of pixels, convert these into floating point tensors and then rescale the pixel values (between 0 and 255) between 0 and 1. To complete these task we will be using ImageDataGenerator which allows to quickly set up Python generators that can automatically turn image files on disk into batches of pre-processed tensors. The textbook \"Deep Learning with Python\" by Francois Chollet was referenced for the following code block of formatting our images:"
   ]
  },
  {
   "cell_type": "code",
   "execution_count": 20,
   "id": "adjustable-bunch",
   "metadata": {},
   "outputs": [
    {
     "name": "stdout",
     "output_type": "stream",
     "text": [
      "Found 5530 images belonging to 2 classes.\n",
      "Found 1185 images belonging to 2 classes.\n"
     ]
    }
   ],
   "source": [
    "from keras.preprocessing.image import ImageDataGenerator # A python generator is an object that acts as an iterator that can be used in for loops\n",
    "\n",
    "# All images will be rescaled by 1./255\n",
    "train_datagen = ImageDataGenerator(rescale=1./255) # rescales all images by 1/255 in the train set\n",
    "test_datagen = ImageDataGenerator(rescale=1./255)  # rescales all images by 1/255 in the test set\n",
    "\n",
    "train_generator = train_datagen.flow_from_directory(\n",
    "        # This is the target directory\n",
    "        train_dir,\n",
    "        # All images will be resized to 150x150\n",
    "        target_size=(150, 150),\n",
    "        batch_size=20,\n",
    "        # Since we use binary_crossentropy loss, we need binary labels\n",
    "        class_mode='binary')\n",
    "\n",
    "# This will be the same as the train_generator\n",
    "validation_generator = test_datagen.flow_from_directory(\n",
    "        validation_dir,\n",
    "        target_size=(150, 150),\n",
    "        batch_size=20,\n",
    "        class_mode='binary')"
   ]
  },
  {
   "cell_type": "markdown",
   "id": "bacterial-marketing",
   "metadata": {},
   "source": [
    "In this next step we will use a for loop to go through the images as follows: "
   ]
  },
  {
   "cell_type": "code",
   "execution_count": 21,
   "id": "tired-effects",
   "metadata": {},
   "outputs": [
    {
     "name": "stdout",
     "output_type": "stream",
     "text": [
      "data batch shape: (20, 150, 150, 3)\n",
      "labels batch shape: (20,)\n"
     ]
    }
   ],
   "source": [
    "for data_batch, labels_batch in train_generator:\n",
    "    print('data batch shape:', data_batch.shape) # data batch shape\n",
    "    print('labels batch shape:', labels_batch.shape) # labels batch shape \n",
    "    break # we need to break this point at some point since the code will loop indefinitely "
   ]
  },
  {
   "cell_type": "markdown",
   "id": "vital-research",
   "metadata": {},
   "source": [
    "Let us now take a look at the output of one of these generators as it looped through the images: \n",
    "\n",
    "We get batches of 150x150 RGB images (shape (20, 150, 150, 3)) and binary labels in the (shape (20,)). In other words, 20 is the number of samples in each batch (the batch size). This batch size was selected based on was has been observed and considered common practice considering the size of our data and limited computational power.\n",
    "\n",
    "We are now ready to start fitting our model using these generators."
   ]
  },
  {
   "cell_type": "markdown",
   "id": "analyzed-routine",
   "metadata": {},
   "source": [
    "## Fit Non-Convolutional NN"
   ]
  },
  {
   "cell_type": "code",
   "execution_count": 22,
   "id": "polished-mention",
   "metadata": {},
   "outputs": [
    {
     "name": "stderr",
     "output_type": "stream",
     "text": [
      "C:\\Users\\const\\anaconda3\\envs\\triskelion\\lib\\site-packages\\tensorflow\\python\\keras\\engine\\training.py:1844: UserWarning: `Model.fit_generator` is deprecated and will be removed in a future version. Please use `Model.fit`, which supports generators.\n",
      "  warnings.warn('`Model.fit_generator` is deprecated and '\n"
     ]
    },
    {
     "name": "stdout",
     "output_type": "stream",
     "text": [
      "Epoch 1/30\n",
      "100/100 [==============================] - 100s 979ms/step - loss: 27.3574 - accuracy: 0.6063 - val_loss: 8.1736 - val_accuracy: 0.3360\n",
      "Epoch 2/30\n",
      "100/100 [==============================] - 72s 719ms/step - loss: 3.1953 - accuracy: 0.7040 - val_loss: 0.4607 - val_accuracy: 0.8440\n",
      "Epoch 3/30\n",
      "100/100 [==============================] - 71s 714ms/step - loss: 0.5008 - accuracy: 0.8050 - val_loss: 0.3745 - val_accuracy: 0.8570\n",
      "Epoch 4/30\n",
      "100/100 [==============================] - 63s 635ms/step - loss: 0.4588 - accuracy: 0.8213 - val_loss: 0.4409 - val_accuracy: 0.8350\n",
      "Epoch 5/30\n",
      "100/100 [==============================] - 65s 648ms/step - loss: 0.3810 - accuracy: 0.8605 - val_loss: 0.4313 - val_accuracy: 0.8430\n",
      "Epoch 6/30\n",
      "100/100 [==============================] - 66s 654ms/step - loss: 0.3759 - accuracy: 0.8446 - val_loss: 0.4132 - val_accuracy: 0.8430\n",
      "Epoch 7/30\n",
      "100/100 [==============================] - 68s 677ms/step - loss: 0.3408 - accuracy: 0.8672 - val_loss: 0.4150 - val_accuracy: 0.8520\n",
      "Epoch 8/30\n",
      "100/100 [==============================] - 66s 663ms/step - loss: 0.3387 - accuracy: 0.8773 - val_loss: 0.4346 - val_accuracy: 0.8550\n",
      "Epoch 9/30\n",
      "100/100 [==============================] - 66s 664ms/step - loss: 0.3006 - accuracy: 0.8885 - val_loss: 0.3915 - val_accuracy: 0.8670\n",
      "Epoch 10/30\n",
      "100/100 [==============================] - 65s 648ms/step - loss: 0.2677 - accuracy: 0.9045 - val_loss: 0.4203 - val_accuracy: 0.8660\n",
      "Epoch 11/30\n",
      "100/100 [==============================] - 68s 679ms/step - loss: 0.2685 - accuracy: 0.9051 - val_loss: 0.5049 - val_accuracy: 0.8290\n",
      "Epoch 12/30\n",
      "100/100 [==============================] - 65s 655ms/step - loss: 0.2271 - accuracy: 0.9200 - val_loss: 0.9241 - val_accuracy: 0.7230\n",
      "Epoch 13/30\n",
      "100/100 [==============================] - 64s 644ms/step - loss: 0.2412 - accuracy: 0.9273 - val_loss: 0.4257 - val_accuracy: 0.8360\n",
      "Epoch 14/30\n",
      "100/100 [==============================] - 65s 653ms/step - loss: 0.1808 - accuracy: 0.9347 - val_loss: 0.5138 - val_accuracy: 0.8590\n",
      "Epoch 15/30\n",
      "100/100 [==============================] - 60s 601ms/step - loss: 0.2034 - accuracy: 0.9212 - val_loss: 0.4914 - val_accuracy: 0.8480\n",
      "Epoch 16/30\n",
      "100/100 [==============================] - 59s 595ms/step - loss: 0.1609 - accuracy: 0.9552 - val_loss: 0.6935 - val_accuracy: 0.8220\n",
      "Epoch 17/30\n",
      "100/100 [==============================] - 61s 606ms/step - loss: 0.1557 - accuracy: 0.9421 - val_loss: 0.9521 - val_accuracy: 0.7530\n",
      "Epoch 18/30\n",
      "100/100 [==============================] - 59s 592ms/step - loss: 0.1666 - accuracy: 0.9502 - val_loss: 0.5143 - val_accuracy: 0.8590\n",
      "Epoch 19/30\n",
      "100/100 [==============================] - 58s 581ms/step - loss: 0.1533 - accuracy: 0.9406 - val_loss: 0.6191 - val_accuracy: 0.8070\n",
      "Epoch 20/30\n",
      "100/100 [==============================] - 57s 569ms/step - loss: 0.1151 - accuracy: 0.9703 - val_loss: 0.5143 - val_accuracy: 0.8430\n",
      "Epoch 21/30\n",
      "100/100 [==============================] - 55s 549ms/step - loss: 0.1156 - accuracy: 0.9628 - val_loss: 0.5139 - val_accuracy: 0.8470\n",
      "Epoch 22/30\n",
      "100/100 [==============================] - 56s 560ms/step - loss: 0.1175 - accuracy: 0.9650 - val_loss: 0.5463 - val_accuracy: 0.8420\n",
      "Epoch 23/30\n",
      "100/100 [==============================] - 55s 552ms/step - loss: 0.1539 - accuracy: 0.9468 - val_loss: 0.5234 - val_accuracy: 0.8510\n",
      "Epoch 24/30\n",
      "100/100 [==============================] - 59s 592ms/step - loss: 0.0868 - accuracy: 0.9765 - val_loss: 0.4603 - val_accuracy: 0.8640\n",
      "Epoch 25/30\n",
      "100/100 [==============================] - 57s 570ms/step - loss: 0.0884 - accuracy: 0.9717 - val_loss: 0.6069 - val_accuracy: 0.8430\n",
      "Epoch 26/30\n",
      "100/100 [==============================] - 56s 564ms/step - loss: 0.0779 - accuracy: 0.9777 - val_loss: 1.0524 - val_accuracy: 0.7860\n",
      "Epoch 27/30\n",
      "100/100 [==============================] - 56s 560ms/step - loss: 0.0854 - accuracy: 0.9742 - val_loss: 0.7787 - val_accuracy: 0.8500\n",
      "Epoch 28/30\n",
      "100/100 [==============================] - 57s 569ms/step - loss: 0.1118 - accuracy: 0.9607 - val_loss: 0.6159 - val_accuracy: 0.8590\n",
      "Epoch 29/30\n",
      "100/100 [==============================] - 56s 559ms/step - loss: 0.0597 - accuracy: 0.9852 - val_loss: 1.0754 - val_accuracy: 0.7800\n",
      "Epoch 30/30\n",
      "100/100 [==============================] - 55s 547ms/step - loss: 0.0970 - accuracy: 0.9757 - val_loss: 0.6188 - val_accuracy: 0.8450\n"
     ]
    }
   ],
   "source": [
    "history_trad = network.fit_generator(\n",
    "      train_generator,\n",
    "      steps_per_epoch=100, # after having drawn 100 batches from the generator, the fitting process will go to the epoch\n",
    "      epochs=30, # number of epochs used to run \n",
    "      validation_data=validation_generator, # yield validation data \n",
    "      validation_steps=50) # this is an important argument since it tells the process how many batches to draw from the validation generator"
   ]
  },
  {
   "cell_type": "markdown",
   "id": "religious-frontier",
   "metadata": {},
   "source": [
    "We will be saving this convolutional model below:"
   ]
  },
  {
   "cell_type": "code",
   "execution_count": 23,
   "id": "medieval-patio",
   "metadata": {},
   "outputs": [],
   "source": [
    "from keras.models import load_model\n",
    "\n",
    "network.save('bb_class_baseline.h5')  # creates a HDF5 file 'my_model.h5'\n",
    "\n",
    "# returns a compiled model\n",
    "# model = load_model('my_model.h5')"
   ]
  },
  {
   "cell_type": "markdown",
   "id": "painful-glucose",
   "metadata": {},
   "source": [
    "Now that we have our model, it would be a good time to check for its loss and accuracy of our training and validation data. We will be plotting these points for visualising what is going on in the code chunk below referenced from \"Deep Learning with Python\" by Francois Chollet."
   ]
  },
  {
   "cell_type": "code",
   "execution_count": 24,
   "id": "continuous-lebanon",
   "metadata": {},
   "outputs": [
    {
     "data": {
      "image/png": "[encoded data removed]",
      "text/plain": [
       "<Figure size 432x288 with 1 Axes>"
      ]
     },
     "metadata": {
      "needs_background": "light"
     },
     "output_type": "display_data"
    },
    {
     "data": {
      "image/png": "[encoded data removed]",
      "text/plain": [
       "<Figure size 432x288 with 1 Axes>"
      ]
     },
     "metadata": {
      "needs_background": "light"
     },
     "output_type": "display_data"
    }
   ],
   "source": [
    "import matplotlib.pyplot as plt # Matplotlib is a comprehensive library for creating static, animated, and interactive visualizations in Python\n",
    "\n",
    "acc = history_trad.history['accuracy'] # set the accuracy measures to the variable acc\n",
    "val_acc = history_trad.history['val_accuracy'] # set the validation accuracy measures to the variable val_acc\n",
    "loss = history_trad.history['loss'] # set the loss measures to the variable loss\n",
    "val_loss = history_trad.history['val_loss'] # set the validation loss measures to the variable val_loss\n",
    "\n",
    "epochs = range(len(acc)) # number of epochs ran\n",
    "\n",
    "plt.plot(epochs, acc, 'bo', label='Training acc') # plot the accuracy measures in blue dots\n",
    "plt.plot(epochs, val_acc, 'b', label='Validation acc') # plot the validation accuracy measures in blue line\n",
    "plt.title('Training and validation accuracy') # add title to plot\n",
    "plt.legend() # add legend to plot\n",
    "\n",
    "plt.figure()\n",
    "\n",
    "plt.plot(epochs, loss, 'bo', label='Training loss') # plot the training loss measures in blue dots\n",
    "plt.plot(epochs, val_loss, 'b', label='Validation loss') # plot the validation loss measures in blue line\n",
    "plt.title('Training and validation loss') # add title to plot\n",
    "plt.legend() # add legend to plot\n",
    "\n",
    "plt.show()"
   ]
  },
  {
   "cell_type": "markdown",
   "id": "cathedral-flight",
   "metadata": {},
   "source": [
    "These plots are typical of overfitting. Our training accuracy increases until it reaches nearly 100% around 20 epochs, while our validation accuracy flattens around 81%. Our validation loss reaches its minimum after only the first few epochs and then stalls, slowly increasing, while the training loss keeps decreasing until it reaches nearly 0. Because we have relatively few training samples, overfitting is going to be a major concern. To address this issue, we will investigate common techniques to help mitigate overfitting including dropout and data augmentation later in this report.\n",
    "\n",
    "We will next look into fitting the convolutional network and seeing how the results compare to our previous models. The following code chunk will be fitting this convolutional neural net by using the generator we developed in this section. "
   ]
  },
  {
   "cell_type": "markdown",
   "id": "romance-robinson",
   "metadata": {},
   "source": [
    "## *5- Fit Convolutional NN*"
   ]
  },
  {
   "cell_type": "markdown",
   "id": "earlier-logan",
   "metadata": {},
   "source": [
    "Using the generators developed in the previous section we will be using convolutional neural nets in this step:"
   ]
  },
  {
   "cell_type": "code",
   "execution_count": 25,
   "id": "legendary-blowing",
   "metadata": {},
   "outputs": [
    {
     "name": "stderr",
     "output_type": "stream",
     "text": [
      "C:\\Users\\const\\anaconda3\\envs\\triskelion\\lib\\site-packages\\tensorflow\\python\\keras\\engine\\training.py:1844: UserWarning: `Model.fit_generator` is deprecated and will be removed in a future version. Please use `Model.fit`, which supports generators.\n",
      "  warnings.warn('`Model.fit_generator` is deprecated and '\n"
     ]
    },
    {
     "name": "stdout",
     "output_type": "stream",
     "text": [
      "Epoch 1/30\n",
      "100/100 [==============================] - 66s 653ms/step - loss: 0.5774 - acc: 0.6927 - val_loss: 0.5261 - val_acc: 0.6860\n",
      "Epoch 2/30\n",
      "100/100 [==============================] - 65s 646ms/step - loss: 0.4906 - acc: 0.7579 - val_loss: 0.5167 - val_acc: 0.7760\n",
      "Epoch 3/30\n",
      "100/100 [==============================] - 66s 660ms/step - loss: 0.4630 - acc: 0.8156 - val_loss: 0.5643 - val_acc: 0.8150\n",
      "Epoch 4/30\n",
      "100/100 [==============================] - 65s 647ms/step - loss: 0.5020 - acc: 0.7966 - val_loss: 0.4742 - val_acc: 0.8240\n",
      "Epoch 5/30\n",
      "100/100 [==============================] - 65s 648ms/step - loss: 0.4603 - acc: 0.8185 - val_loss: 0.4522 - val_acc: 0.8140\n",
      "Epoch 6/30\n",
      "100/100 [==============================] - 64s 645ms/step - loss: 0.4422 - acc: 0.8199 - val_loss: 0.4198 - val_acc: 0.8240\n",
      "Epoch 7/30\n",
      "100/100 [==============================] - 65s 652ms/step - loss: 0.3998 - acc: 0.8370 - val_loss: 0.3997 - val_acc: 0.8330\n",
      "Epoch 8/30\n",
      "100/100 [==============================] - 65s 650ms/step - loss: 0.3981 - acc: 0.8399 - val_loss: 0.4136 - val_acc: 0.8260\n",
      "Epoch 9/30\n",
      "100/100 [==============================] - 65s 647ms/step - loss: 0.3843 - acc: 0.8530 - val_loss: 0.3992 - val_acc: 0.8330\n",
      "Epoch 10/30\n",
      "100/100 [==============================] - 65s 647ms/step - loss: 0.3817 - acc: 0.8444 - val_loss: 0.3947 - val_acc: 0.8340\n",
      "Epoch 11/30\n",
      "100/100 [==============================] - 65s 648ms/step - loss: 0.3963 - acc: 0.8342 - val_loss: 0.3875 - val_acc: 0.8380\n",
      "Epoch 12/30\n",
      "100/100 [==============================] - 66s 658ms/step - loss: 0.3853 - acc: 0.8400 - val_loss: 0.3961 - val_acc: 0.8450\n",
      "Epoch 13/30\n",
      "100/100 [==============================] - 66s 663ms/step - loss: 0.3562 - acc: 0.8524 - val_loss: 0.4166 - val_acc: 0.8200\n",
      "Epoch 14/30\n",
      "100/100 [==============================] - 65s 651ms/step - loss: 0.3568 - acc: 0.8553 - val_loss: 0.3900 - val_acc: 0.8430\n",
      "Epoch 15/30\n",
      "100/100 [==============================] - 64s 644ms/step - loss: 0.3506 - acc: 0.8525 - val_loss: 0.3661 - val_acc: 0.8510\n",
      "Epoch 16/30\n",
      "100/100 [==============================] - 65s 648ms/step - loss: 0.3369 - acc: 0.8553 - val_loss: 0.3741 - val_acc: 0.8430\n",
      "Epoch 17/30\n",
      "100/100 [==============================] - 66s 661ms/step - loss: 0.3205 - acc: 0.8613 - val_loss: 0.3759 - val_acc: 0.8480\n",
      "Epoch 18/30\n",
      "100/100 [==============================] - 65s 645ms/step - loss: 0.3124 - acc: 0.8769 - val_loss: 0.3666 - val_acc: 0.8510\n",
      "Epoch 19/30\n",
      "100/100 [==============================] - 65s 645ms/step - loss: 0.3368 - acc: 0.8630 - val_loss: 0.3740 - val_acc: 0.8530\n",
      "Epoch 20/30\n",
      "100/100 [==============================] - 65s 649ms/step - loss: 0.3189 - acc: 0.8733 - val_loss: 0.3750 - val_acc: 0.8410\n",
      "Epoch 21/30\n",
      "100/100 [==============================] - 64s 644ms/step - loss: 0.2965 - acc: 0.8777 - val_loss: 0.3430 - val_acc: 0.8570\n",
      "Epoch 22/30\n",
      "100/100 [==============================] - 66s 661ms/step - loss: 0.3128 - acc: 0.8785 - val_loss: 0.3704 - val_acc: 0.8430\n",
      "Epoch 23/30\n",
      "100/100 [==============================] - 65s 645ms/step - loss: 0.2828 - acc: 0.8845 - val_loss: 0.3596 - val_acc: 0.8510\n",
      "Epoch 24/30\n",
      "100/100 [==============================] - 65s 649ms/step - loss: 0.2871 - acc: 0.8923 - val_loss: 0.3451 - val_acc: 0.8630\n",
      "Epoch 25/30\n",
      "100/100 [==============================] - 66s 662ms/step - loss: 0.3073 - acc: 0.8708 - val_loss: 0.3753 - val_acc: 0.8470\n",
      "Epoch 26/30\n",
      "100/100 [==============================] - 65s 649ms/step - loss: 0.2741 - acc: 0.8962 - val_loss: 0.3423 - val_acc: 0.8630\n",
      "Epoch 27/30\n",
      "100/100 [==============================] - 66s 656ms/step - loss: 0.2649 - acc: 0.8980 - val_loss: 0.3865 - val_acc: 0.8450\n",
      "Epoch 28/30\n",
      "100/100 [==============================] - 64s 639ms/step - loss: 0.2847 - acc: 0.8929 - val_loss: 0.3539 - val_acc: 0.8560\n",
      "Epoch 29/30\n",
      "100/100 [==============================] - 65s 646ms/step - loss: 0.2684 - acc: 0.8898 - val_loss: 0.3475 - val_acc: 0.8600\n",
      "Epoch 30/30\n",
      "100/100 [==============================] - 66s 658ms/step - loss: 0.2624 - acc: 0.8998 - val_loss: 0.3440 - val_acc: 0.8620\n"
     ]
    }
   ],
   "source": [
    "history = model.fit_generator(\n",
    "      train_generator,\n",
    "      steps_per_epoch=100, # after having drawn 100 batches from the generator, the fitting process will go to the epoch\n",
    "      epochs=30,  # number of epochs used to run \n",
    "      validation_data=validation_generator, # yield validation data\n",
    "      validation_steps=50)  # number of batches to draw from the validation generator"
   ]
  },
  {
   "cell_type": "markdown",
   "id": "worse-devices",
   "metadata": {},
   "source": [
    "As with the previous model, we will be saving this trained model using the code below:"
   ]
  },
  {
   "cell_type": "code",
   "execution_count": 26,
   "id": "prescription-principal",
   "metadata": {},
   "outputs": [],
   "source": [
    "model.save('bb_class_conv.h5')  # creates a HDF5 file 'my_model.h5'\n",
    "\n",
    "# returns a compiled model\n",
    "# identical to the previous one\n",
    "#model = load_model('my_model.h5')"
   ]
  },
  {
   "cell_type": "markdown",
   "id": "equal-photographer",
   "metadata": {},
   "source": [
    "Next, we will be plotting the loss and accuracy of the model over the training and validation data to compare to our previous models:"
   ]
  },
  {
   "cell_type": "code",
   "execution_count": 27,
   "id": "pretty-produce",
   "metadata": {},
   "outputs": [
    {
     "data": {
      "image/png": "[encoded data removed]",
      "text/plain": [
       "<Figure size 432x288 with 1 Axes>"
      ]
     },
     "metadata": {
      "needs_background": "light"
     },
     "output_type": "display_data"
    },
    {
     "data": {
      "image/png": "[encoded data removed]",
      "text/plain": [
       "<Figure size 432x288 with 1 Axes>"
      ]
     },
     "metadata": {
      "needs_background": "light"
     },
     "output_type": "display_data"
    }
   ],
   "source": [
    "import matplotlib.pyplot as plt  # Matplotlib is a comprehensive library for creating static, animated, and interactive visualizations in Python\n",
    "\n",
    "acc = history.history['acc'] # set the accuracy measures to the variable acc\n",
    "val_acc = history.history['val_acc']  # set the validation accuracy measures to the variable val_acc\n",
    "loss = history.history['loss'] # set the loss measures to the variable loss\n",
    "val_loss = history.history['val_loss']  # set the validation loss measures to the variable val_loss\n",
    "\n",
    "epochs = range(len(acc)) # number of epochs ran\n",
    "\n",
    "plt.plot(epochs, acc, 'bo', label='Training acc') # plot the accuracy measures in blue dots\n",
    "plt.plot(epochs, val_acc, 'b', label='Validation acc') # plot the validation accuracy measures in blue line\n",
    "plt.title('Training and validation accuracy') # add title to plot\n",
    "plt.legend() # add legend to plot\n",
    "\n",
    "plt.figure()\n",
    "\n",
    "plt.plot(epochs, loss, 'bo', label='Training loss') # plot the training loss measures in blue dots\n",
    "plt.plot(epochs, val_loss, 'b', label='Validation loss')  # plot the validation loss measures in blue line\n",
    "plt.title('Training and validation loss') # add title to plot\n",
    "plt.legend()  # add legend to plot\n",
    " \n",
    "plt.show()"
   ]
  },
  {
   "cell_type": "markdown",
   "id": "harmful-humidity",
   "metadata": {},
   "source": [
    "Already we can notice a significant reduction in overfitting from the previous non-convolutional NN. This helps highlight the superior effectiveness of convnets for vision problems. The training accuracy keeps improving linearly over time, until it reaches 85% while the validation accuracy follows it relatively closely until epoch 20. \n",
    "\n",
    "In the next section, we will experiment with data augmentation, dropout, and extending the model structures and Callbacks as to observe the impact on our convnet model."
   ]
  },
  {
   "cell_type": "markdown",
   "id": "changed-multiple",
   "metadata": {},
   "source": [
    "## Improving our Baseline ConvNet"
   ]
  },
  {
   "cell_type": "markdown",
   "id": "fitting-median",
   "metadata": {},
   "source": [
    "### Using Data Augmentation, Dropout, Extending Model Structure & Callbacks"
   ]
  },
  {
   "cell_type": "markdown",
   "id": "constant-exemption",
   "metadata": {},
   "source": [
    "Overfitting is caused by having too few samples to learn from, which as a result makes us unable to train a model able to generalize to new data. **Data augmentation** takes the approach of generating more training data from existing training samples, via several random transformations that yield believable-looking images. This allows for when we train our model to not see the exact picture more than once. This helps the model get exposed to more aspects of the data and hence allowing it to generalize better. It is important to note that the inputs that the new network sees will still be heavily intercorrelated, reducing overfitting, but not eliminating it completely. In addition, we will also add a **Dropout** layer to our model, right before the densely connected classifier. This will randomly set input units to 0 with a frequency of rate at each step during training time, which helps prevent overfitting. Furthermore, to compensate for the fact that were dealing with bigger images and a complex problem, will add two Conv2D + MaxPooling2D stages.\n",
    "\n",
    "Let us take a look at how this works:\n"
   ]
  },
  {
   "cell_type": "code",
   "execution_count": 28,
   "id": "vanilla-services",
   "metadata": {},
   "outputs": [],
   "source": [
    "model2 = models.Sequential()\n",
    "model2.add(layers.Conv2D(32, (3, 3), activation='relu',\n",
    "                        input_shape=(150, 150, 3)))\n",
    "model2.add(layers.MaxPooling2D((2, 2)))\n",
    "model2.add(layers.Conv2D(64, (3, 3), activation='relu'))\n",
    "model2.add(layers.MaxPooling2D((2, 2)))\n",
    "model2.add(layers.Conv2D(128, (3, 3), activation='relu')) # this was added from the initial convnet network\n",
    "model2.add(layers.MaxPooling2D((2, 2))) # this was added from the initial convnet network\n",
    "model2.add(layers.Conv2D(128, (3, 3), activation='relu')) # this was added from the initial convnet network\n",
    "model2.add(layers.MaxPooling2D((2, 2))) # maxpool layer\n",
    "model2.add(layers.Flatten())  \n",
    "model2.add(layers.Dropout(0.5)) # dropout layer \n",
    "model2.add(layers.Dense(512, activation='relu'))\n",
    "model2.add(layers.Dense(1, activation='sigmoid'))\n",
    "\n",
    "model2.compile(loss='binary_crossentropy',\n",
    "              optimizer=optimizers.RMSprop(lr=1e-4),\n",
    "              metrics=['acc'])"
   ]
  },
  {
   "cell_type": "code",
   "execution_count": 29,
   "id": "underlying-conference",
   "metadata": {},
   "outputs": [
    {
     "name": "stdout",
     "output_type": "stream",
     "text": [
      "Model: \"sequential_2\"\n",
      "_________________________________________________________________\n",
      "Layer (type)                 Output Shape              Param #   \n",
      "=================================================================\n",
      "conv2d_2 (Conv2D)            (None, 148, 148, 32)      896       \n",
      "_________________________________________________________________\n",
      "max_pooling2d_2 (MaxPooling2 (None, 74, 74, 32)        0         \n",
      "_________________________________________________________________\n",
      "conv2d_3 (Conv2D)            (None, 72, 72, 64)        18496     \n",
      "_________________________________________________________________\n",
      "max_pooling2d_3 (MaxPooling2 (None, 36, 36, 64)        0         \n",
      "_________________________________________________________________\n",
      "conv2d_4 (Conv2D)            (None, 34, 34, 128)       73856     \n",
      "_________________________________________________________________\n",
      "max_pooling2d_4 (MaxPooling2 (None, 17, 17, 128)       0         \n",
      "_________________________________________________________________\n",
      "conv2d_5 (Conv2D)            (None, 15, 15, 128)       147584    \n",
      "_________________________________________________________________\n",
      "max_pooling2d_5 (MaxPooling2 (None, 7, 7, 128)         0         \n",
      "_________________________________________________________________\n",
      "flatten_2 (Flatten)          (None, 6272)              0         \n",
      "_________________________________________________________________\n",
      "dropout (Dropout)            (None, 6272)              0         \n",
      "_________________________________________________________________\n",
      "dense_4 (Dense)              (None, 512)               3211776   \n",
      "_________________________________________________________________\n",
      "dense_5 (Dense)              (None, 1)                 513       \n",
      "=================================================================\n",
      "Total params: 3,453,121\n",
      "Trainable params: 3,453,121\n",
      "Non-trainable params: 0\n",
      "_________________________________________________________________\n"
     ]
    }
   ],
   "source": [
    "model2.summary()"
   ]
  },
  {
   "cell_type": "markdown",
   "id": "cosmetic-completion",
   "metadata": {},
   "source": [
    "One will notice how the number of parameters have dropped (i.e. by approximatly 1 million) as a result of having added more convolutional layer to the initial convnet structure.\n",
    "\n",
    "Next we will train our network using data augmentation and dropout:"
   ]
  },
  {
   "cell_type": "code",
   "execution_count": 30,
   "id": "cloudy-judge",
   "metadata": {},
   "outputs": [
    {
     "name": "stdout",
     "output_type": "stream",
     "text": [
      "Found 5530 images belonging to 2 classes.\n",
      "Found 1185 images belonging to 2 classes.\n"
     ]
    }
   ],
   "source": [
    "train_datagen = ImageDataGenerator(\n",
    "    rescale=1./255,\n",
    "    rotation_range=40,\n",
    "    width_shift_range=0.2,\n",
    "    height_shift_range=0.2,\n",
    "    shear_range=0.2,\n",
    "    zoom_range=0.2,\n",
    "    horizontal_flip=True,)\n",
    "\n",
    "# Validation data should not be augmented\n",
    "test_datagen = ImageDataGenerator(rescale=1./255)\n",
    "\n",
    "train_generator = train_datagen.flow_from_directory(\n",
    "        # This is the target directory\n",
    "        train_dir,\n",
    "        # All images will be resized to 150x150\n",
    "        target_size=(150, 150),\n",
    "        batch_size=20,\n",
    "        # Since we use binary_crossentropy loss, we need binary labels\n",
    "        class_mode='binary')\n",
    "\n",
    "validation_generator = test_datagen.flow_from_directory(\n",
    "        validation_dir,\n",
    "        target_size=(150, 150),\n",
    "        batch_size=20,\n",
    "        class_mode='binary')"
   ]
  },
  {
   "cell_type": "markdown",
   "id": "important-spelling",
   "metadata": {},
   "source": [
    "At this stage we are also going to be also using callbacks, in general a callback is an object that can perform actions at various stages of training (e.g. at the start or end of an epoch, before or after a single batch, etc).\n",
    "\n",
    "More specifically, here is what we are attempting to do with them:\n",
    "  1. **ModelCheckpoint:** When training requires a lot of time to achieve a good result, often many iterations are required. In this case, it is better to save a copy of the best performing model only when an epoch that improves the metrics ends.\n",
    "  2. **ReduceLROnPlateau:** Reduce learning rate when a metric has stopped improving. Models often benefit from reducing the learning rate by a factor of 2–10 once learning stagnates. This callback monitors a quantity and if no improvement is seen for a ‘patience’ number of epochs, the learning rate is reduced."
   ]
  },
  {
   "cell_type": "code",
   "execution_count": 32,
   "id": "exterior-aging",
   "metadata": {},
   "outputs": [
    {
     "name": "stdout",
     "output_type": "stream",
     "text": [
      "Epoch 1/30\n",
      "100/100 [==============================] - 92s 911ms/step - loss: 0.6187 - acc: 0.6630 - val_loss: 0.4693 - val_acc: 0.7940\n",
      "\n",
      "Epoch 00001: val_acc improved from -inf to 0.79400, saving model to weights.best.hdf5\n",
      "Epoch 2/30\n",
      "100/100 [==============================] - 107s 1s/step - loss: 0.5131 - acc: 0.7677 - val_loss: 0.5066 - val_acc: 0.7570\n",
      "\n",
      "Epoch 00002: val_acc did not improve from 0.79400\n",
      "Epoch 3/30\n",
      "100/100 [==============================] - 105s 1s/step - loss: 0.4815 - acc: 0.8013 - val_loss: 0.4413 - val_acc: 0.8220\n",
      "\n",
      "Epoch 00003: val_acc improved from 0.79400 to 0.82200, saving model to weights.best.hdf5\n",
      "Epoch 4/30\n",
      "100/100 [==============================] - 102s 1s/step - loss: 0.4613 - acc: 0.8119 - val_loss: 0.4290 - val_acc: 0.8280\n",
      "\n",
      "Epoch 00004: val_acc improved from 0.82200 to 0.82800, saving model to weights.best.hdf5\n",
      "Epoch 5/30\n",
      "100/100 [==============================] - 100s 1000ms/step - loss: 0.4713 - acc: 0.7996 - val_loss: 0.5100 - val_acc: 0.7900\n",
      "\n",
      "Epoch 00005: val_acc did not improve from 0.82800\n",
      "Epoch 6/30\n",
      "100/100 [==============================] - 101s 1s/step - loss: 0.4652 - acc: 0.8067 - val_loss: 0.4467 - val_acc: 0.8250\n",
      "\n",
      "Epoch 00006: val_acc did not improve from 0.82800\n",
      "Epoch 7/30\n",
      "100/100 [==============================] - 104s 1s/step - loss: 0.4353 - acc: 0.8316 - val_loss: 0.4596 - val_acc: 0.8120\n",
      "\n",
      "Epoch 00007: val_acc did not improve from 0.82800\n",
      "Epoch 8/30\n",
      "100/100 [==============================] - 101s 1s/step - loss: 0.4301 - acc: 0.8229 - val_loss: 0.5460 - val_acc: 0.7690\n",
      "\n",
      "Epoch 00008: val_acc did not improve from 0.82800\n",
      "Epoch 9/30\n",
      "100/100 [==============================] - 102s 1s/step - loss: 0.4209 - acc: 0.8273 - val_loss: 0.4293 - val_acc: 0.8150\n",
      "\n",
      "Epoch 00009: ReduceLROnPlateau reducing learning rate to 1.9999999494757503e-05.\n",
      "\n",
      "Epoch 00009: val_acc did not improve from 0.82800\n",
      "Epoch 10/30\n",
      "100/100 [==============================] - 101s 1s/step - loss: 0.3939 - acc: 0.8479 - val_loss: 0.4189 - val_acc: 0.8300\n",
      "\n",
      "Epoch 00010: val_acc improved from 0.82800 to 0.83000, saving model to weights.best.hdf5\n",
      "Epoch 11/30\n",
      "100/100 [==============================] - 103s 1s/step - loss: 0.3889 - acc: 0.8450 - val_loss: 0.3944 - val_acc: 0.8420\n",
      "\n",
      "Epoch 00011: val_acc improved from 0.83000 to 0.84200, saving model to weights.best.hdf5\n",
      "Epoch 12/30\n",
      "100/100 [==============================] - 103s 1s/step - loss: 0.3893 - acc: 0.8365 - val_loss: 0.4263 - val_acc: 0.8340\n",
      "\n",
      "Epoch 00012: val_acc did not improve from 0.84200\n",
      "Epoch 13/30\n",
      "100/100 [==============================] - 107s 1s/step - loss: 0.3893 - acc: 0.8443 - val_loss: 0.4262 - val_acc: 0.8310\n",
      "\n",
      "Epoch 00013: val_acc did not improve from 0.84200\n",
      "Epoch 14/30\n",
      "100/100 [==============================] - 106s 1s/step - loss: 0.3906 - acc: 0.8495 - val_loss: 0.3845 - val_acc: 0.8410\n",
      "\n",
      "Epoch 00014: val_acc did not improve from 0.84200\n",
      "Epoch 15/30\n",
      "100/100 [==============================] - 105s 1s/step - loss: 0.3694 - acc: 0.8532 - val_loss: 0.4244 - val_acc: 0.8330\n",
      "\n",
      "Epoch 00015: val_acc did not improve from 0.84200\n",
      "Epoch 16/30\n",
      "100/100 [==============================] - 105s 1s/step - loss: 0.3892 - acc: 0.8471 - val_loss: 0.4329 - val_acc: 0.8270\n",
      "\n",
      "Epoch 00016: ReduceLROnPlateau reducing learning rate to 3.999999898951501e-06.\n",
      "\n",
      "Epoch 00016: val_acc did not improve from 0.84200\n",
      "Epoch 17/30\n",
      "100/100 [==============================] - 103s 1s/step - loss: 0.3728 - acc: 0.8493 - val_loss: 0.3942 - val_acc: 0.8480\n",
      "\n",
      "Epoch 00017: val_acc improved from 0.84200 to 0.84800, saving model to weights.best.hdf5\n",
      "Epoch 18/30\n",
      "100/100 [==============================] - 104s 1s/step - loss: 0.4137 - acc: 0.8168 - val_loss: 0.3929 - val_acc: 0.8380\n",
      "\n",
      "Epoch 00018: val_acc did not improve from 0.84800\n",
      "Epoch 19/30\n",
      "100/100 [==============================] - 105s 1s/step - loss: 0.3425 - acc: 0.8702 - val_loss: 0.3965 - val_acc: 0.8470\n",
      "\n",
      "Epoch 00019: val_acc did not improve from 0.84800\n",
      "Epoch 20/30\n",
      "100/100 [==============================] - 104s 1s/step - loss: 0.3668 - acc: 0.8444 - val_loss: 0.3845 - val_acc: 0.8410\n",
      "\n",
      "Epoch 00020: val_acc did not improve from 0.84800\n",
      "Epoch 21/30\n",
      "100/100 [==============================] - 109s 1s/step - loss: 0.3958 - acc: 0.8400 - val_loss: 0.4035 - val_acc: 0.8370\n",
      "\n",
      "Epoch 00021: val_acc did not improve from 0.84800\n",
      "Epoch 22/30\n",
      "100/100 [==============================] - 103s 1s/step - loss: 0.3884 - acc: 0.8540 - val_loss: 0.3911 - val_acc: 0.8440\n",
      "\n",
      "Epoch 00022: ReduceLROnPlateau reducing learning rate to 7.999999979801942e-07.\n",
      "\n",
      "Epoch 00022: val_acc did not improve from 0.84800\n",
      "Epoch 23/30\n",
      "100/100 [==============================] - 106s 1s/step - loss: 0.3643 - acc: 0.8600 - val_loss: 0.3886 - val_acc: 0.8530\n",
      "\n",
      "Epoch 00023: val_acc improved from 0.84800 to 0.85300, saving model to weights.best.hdf5\n",
      "Epoch 24/30\n",
      "100/100 [==============================] - 102s 1s/step - loss: 0.3649 - acc: 0.8519 - val_loss: 0.3899 - val_acc: 0.8480\n",
      "\n",
      "Epoch 00024: val_acc did not improve from 0.85300\n",
      "Epoch 25/30\n",
      "100/100 [==============================] - 107s 1s/step - loss: 0.3730 - acc: 0.8527 - val_loss: 0.4011 - val_acc: 0.8420\n",
      "\n",
      "Epoch 00025: val_acc did not improve from 0.85300\n",
      "Epoch 26/30\n",
      "100/100 [==============================] - 103s 1s/step - loss: 0.3703 - acc: 0.8570 - val_loss: 0.3905 - val_acc: 0.8430\n",
      "\n",
      "Epoch 00026: val_acc did not improve from 0.85300\n",
      "Epoch 27/30\n",
      "100/100 [==============================] - 101s 1s/step - loss: 0.4015 - acc: 0.8319 - val_loss: 0.3979 - val_acc: 0.8450\n",
      "\n",
      "Epoch 00027: val_acc did not improve from 0.85300\n",
      "Epoch 28/30\n",
      "100/100 [==============================] - 105s 1s/step - loss: 0.3930 - acc: 0.8364 - val_loss: 0.3838 - val_acc: 0.8540\n",
      "\n",
      "Epoch 00028: val_acc improved from 0.85300 to 0.85400, saving model to weights.best.hdf5\n",
      "Epoch 29/30\n",
      "100/100 [==============================] - 105s 1s/step - loss: 0.3758 - acc: 0.8531 - val_loss: 0.3992 - val_acc: 0.8390\n",
      "\n",
      "Epoch 00029: val_acc did not improve from 0.85400\n",
      "Epoch 30/30\n",
      "100/100 [==============================] - 105s 1s/step - loss: 0.3879 - acc: 0.8451 - val_loss: 0.3943 - val_acc: 0.8440\n",
      "\n",
      "Epoch 00030: val_acc did not improve from 0.85400\n"
     ]
    }
   ],
   "source": [
    "from tensorflow.keras.callbacks import Callback, ModelCheckpoint, ReduceLROnPlateau, TensorBoard #importing the appropriate libraries\n",
    "\n",
    "learn_control = ReduceLROnPlateau(monitor='val_acc', patience=5,\n",
    "                                  verbose=1,factor=0.2, min_lr=1e-7) \n",
    "# Monitor is the quantity to be monitored is\n",
    "# Patience is number of epochs with no improvement after which learning rate will be reduced.\n",
    "\n",
    "\n",
    "filepath=\"weights.best.hdf5\" # loading the filepath \n",
    "checkpoint = ModelCheckpoint(filepath, monitor='val_acc', verbose=1, save_best_only=True, mode='max')\n",
    "# We decided to not use early stopping to interrupt the training since the time was manageable \n",
    "\n",
    "history = model2.fit_generator(\n",
    "      train_generator,\n",
    "      steps_per_epoch=100,\n",
    "      epochs=30,\n",
    "      validation_data=validation_generator,\n",
    "      validation_steps=50,\n",
    "      callbacks=[learn_control, checkpoint])"
   ]
  },
  {
   "cell_type": "markdown",
   "id": "natural-habitat",
   "metadata": {},
   "source": [
    "Saving model after training:"
   ]
  },
  {
   "cell_type": "code",
   "execution_count": 33,
   "id": "forbidden-style",
   "metadata": {},
   "outputs": [],
   "source": [
    "model2.save('bb_class_conv_v2.h5')"
   ]
  },
  {
   "cell_type": "markdown",
   "id": "loaded-string",
   "metadata": {},
   "source": [
    "Finally, we get to plot the loss and accuracy of the model over the training and validation data during training to see if this has shown any impact on our model:"
   ]
  },
  {
   "cell_type": "code",
   "execution_count": 34,
   "id": "proprietary-revelation",
   "metadata": {},
   "outputs": [
    {
     "data": {
      "image/png": "[encoded data removed]",
      "text/plain": [
       "<Figure size 432x288 with 1 Axes>"
      ]
     },
     "metadata": {
      "needs_background": "light"
     },
     "output_type": "display_data"
    },
    {
     "data": {
      "image/png": "[encoded data removed]",
      "text/plain": [
       "<Figure size 432x288 with 1 Axes>"
      ]
     },
     "metadata": {
      "needs_background": "light"
     },
     "output_type": "display_data"
    }
   ],
   "source": [
    "# the following code block is identical to our previous plots, with the exception of running the current model\n",
    "\n",
    "acc = history.history['acc']\n",
    "val_acc = history.history['val_acc']\n",
    "loss = history.history['loss']\n",
    "val_loss = history.history['val_loss']\n",
    "\n",
    "epochs = range(len(acc))\n",
    "\n",
    "plt.plot(epochs, acc, 'bo', label='Training acc')\n",
    "plt.plot(epochs, val_acc, 'b', label='Validation acc')\n",
    "plt.title('Training and validation accuracy')\n",
    "plt.legend()\n",
    "\n",
    "plt.figure()\n",
    "\n",
    "plt.plot(epochs, loss, 'bo', label='Training loss')\n",
    "plt.plot(epochs, val_loss, 'b', label='Validation loss')\n",
    "plt.title('Training and validation loss')\n",
    "plt.legend()\n",
    "\n",
    "plt.show()"
   ]
  },
  {
   "cell_type": "markdown",
   "id": "tested-charm",
   "metadata": {},
   "source": [
    "Thanks to data augmentation and dropout, we have significantly reduced overfitting: the training curves are rather closely tracking the validation curves except for certain spikes. Unfortunately, the validation accuracy seems to plateau around 84%-85%. This is very similar to the result obtained with the convNet model built without any modifications. In some sense, this leads us to believe that this is the best we can do while having to build our own model from scratch. However, what would happen if we used a pretrained model. Considering the complexity of these images, as there are represent different types of each tumor within the benign and malignant class with different magnification. Not to mention, that a few thousand images is considered a small dataset in the specter of vision problems. \n",
    "\n",
    "Therefore, in the next section we showcase our exploration into the use of a pretrained convnet with DensNet201:"
   ]
  },
  {
   "cell_type": "markdown",
   "id": "legitimate-protocol",
   "metadata": {},
   "source": [
    "## Using a pre-trained convnet: DenseNet201"
   ]
  },
  {
   "cell_type": "markdown",
   "id": "editorial-rabbit",
   "metadata": {},
   "source": [
    "Pre-trained convnets are a common and highly effective approach to deep learning on small image datasets. By pre-trained we basically mean a network that has been trained previously on a larger dataset. Since these characteristics resonate with our project at hand, we are excited to see what it has in store for us. We chose to use DenseNet201 for our pretrained model based on some research on what would be an appropriate model to use. Naturally, several pretrained models were available to use, however the final decision came to DenseNet201 and this can be partially credited to its cool sounding name. DenseNet-201 is a convolutional neural network that is 201 layers deep trained on more than a million images from the ImageNet database. The pretrained network can classify images into 1000 object categories, such as keyboard, mouse, pencil, and many animals. As a result, the network has learned rich feature representations for a wide range of images, something that we aim to leverage for our vision problem.[1]\n",
    "\n",
    "We also made use of three layers including a global average pooling layer, a dropout layer (serving the same purpose as before), and a batch normalization layer. The global average pooling (GAP) layer was inserted with the idea to minimize overfitting by reducing the total number of parameters in the model. Like max pooling layers, GAP layers are used to reduce the spatial dimensions of a three-dimensional tensor. The batch normalization layer was added which is considered a technique for training very deep neural networks that standardizes the inputs to a layer for each mini-batch. This has the effect of stabilizing the learning process and dramatically reducing the number of training epochs required to train deep networks. The motivation to integrate the layers into this model stemmed from conducting research into best practices and combined with our professional curiosity of their potential impact.[2][3][4]\n",
    "\n",
    "* [1] https://www.pluralsight.com/guides/introduction-to-densenet-with-tensorflow\n",
    "* [2] https://machinelearningmastery.com/batch-normalization-for-training-of-deep-neural-networks/#:~:text=Batch%20normalization%20is%20a%20technique,required%20to%20train%20deep%20networks.\n",
    "* [3] https://towardsdatascience.com/paper-review-densenet-densely-connected-convolutional-networks-acf9065dfefb\n",
    "* [4] https://machinelearningmastery.com/pooling-layers-for-convolutional-neural-networks/#:~:text=Average%20pooling%20involves%20calculating%20the,6%C3%976%20feature%20map.\n",
    "\n",
    "So let us begin:"
   ]
  },
  {
   "cell_type": "code",
   "execution_count": 35,
   "id": "quarterly-florence",
   "metadata": {},
   "outputs": [
    {
     "name": "stdout",
     "output_type": "stream",
     "text": [
      "Model: \"sequential_3\"\n",
      "_________________________________________________________________\n",
      "Layer (type)                 Output Shape              Param #   \n",
      "=================================================================\n",
      "densenet201 (Functional)     (None, 4, 4, 1920)        18321984  \n",
      "_________________________________________________________________\n",
      "global_average_pooling2d (Gl (None, 1920)              0         \n",
      "_________________________________________________________________\n",
      "dropout_1 (Dropout)          (None, 1920)              0         \n",
      "_________________________________________________________________\n",
      "batch_normalization (BatchNo (None, 1920)              7680      \n",
      "_________________________________________________________________\n",
      "dense_6 (Dense)              (None, 1)                 1921      \n",
      "=================================================================\n",
      "Total params: 18,331,585\n",
      "Trainable params: 18,098,689\n",
      "Non-trainable params: 232,896\n",
      "_________________________________________________________________\n"
     ]
    }
   ],
   "source": [
    "from tensorflow.keras.applications import DenseNet201 # importing DenseNet201 which optionally loads weights pre-trained on ImageNet\n",
    "from tensorflow.keras.models import Sequential\n",
    "\n",
    "def build_model(backbone, lr=1e-4): # this function assembles our model by adding the layers while also compiling it\n",
    "    model4 = Sequential()\n",
    "    model4.add(backbone)\n",
    "    model4.add(layers.GlobalAveragePooling2D()) # reducing the total number of parameters in the model\n",
    "    model4.add(layers.Dropout(0.5)) # Dropout layer\n",
    "    model4.add(layers.BatchNormalization()) # standardizes the inputs to a layer for each mini-batch\n",
    "    model4.add(layers.Dense(1, activation='sigmoid'))\n",
    "    \n",
    "    model4.compile(\n",
    "        loss='binary_crossentropy', # Computes the cross-entropy loss between true labels and predicted labels\n",
    "        optimizer=optimizers.RMSprop(lr=lr),\n",
    "        metrics=['accuracy']\n",
    "    )\n",
    "    return model4\n",
    "\n",
    "resnet = DenseNet201(\n",
    "    weights='imagenet', # loading weights saved on kera's imagenet \n",
    "    include_top=False, # allowing a new output layer to be added and trained\n",
    "    input_shape=(150,150,3)\n",
    ")\n",
    "\n",
    "model4 = build_model(resnet, lr = 1e-4)\n",
    "model4.summary()"
   ]
  },
  {
   "cell_type": "markdown",
   "id": "graduate-wireless",
   "metadata": {},
   "source": [
    "An important observation from the model summary is that there are over 18 million trainable parameters. This would end up taking over half a day to run all in the name of research! Our previous models never allowed for more than 5 million parameters. Although this huge amount of parameters would raise some expected suspicious into this model's likelihood of overfitting on our training data, our theory relied on the complexity of our images and that our previous models were not able to pick up on certain small yet crucial details in an image. Not to mention it takes pathologist years of training to be able to accurately diagnose a tumor, suddenly half a day didn't seem like such a sacrifice.\n",
    "\n",
    "We will reintroduce the callbacks as we did before:"
   ]
  },
  {
   "cell_type": "code",
   "execution_count": 36,
   "id": "dutch-poland",
   "metadata": {},
   "outputs": [
    {
     "name": "stdout",
     "output_type": "stream",
     "text": [
      "Epoch 1/30\n",
      "100/100 [==============================] - 1176s 11s/step - loss: 0.5387 - accuracy: 0.7395 - val_loss: 0.8229 - val_accuracy: 0.6890\n",
      "\n",
      "Epoch 00001: val_accuracy improved from -inf to 0.68900, saving model to weights_m4.best.hdf5\n",
      "Epoch 2/30\n",
      "100/100 [==============================] - 1033s 10s/step - loss: 0.3440 - accuracy: 0.8835 - val_loss: 1.6879 - val_accuracy: 0.6800\n",
      "\n",
      "Epoch 00002: val_accuracy did not improve from 0.68900\n",
      "Epoch 3/30\n",
      "100/100 [==============================] - 1011s 10s/step - loss: 0.2613 - accuracy: 0.9152 - val_loss: 1.3493 - val_accuracy: 0.7030\n",
      "\n",
      "Epoch 00003: val_accuracy improved from 0.68900 to 0.70300, saving model to weights_m4.best.hdf5\n",
      "Epoch 4/30\n",
      "100/100 [==============================] - 1018s 10s/step - loss: 0.2706 - accuracy: 0.8973 - val_loss: 0.4093 - val_accuracy: 0.8760\n",
      "\n",
      "Epoch 00004: val_accuracy improved from 0.70300 to 0.87600, saving model to weights_m4.best.hdf5\n",
      "Epoch 5/30\n",
      "100/100 [==============================] - 1011s 10s/step - loss: 0.1508 - accuracy: 0.9488 - val_loss: 0.2659 - val_accuracy: 0.9410\n",
      "\n",
      "Epoch 00005: val_accuracy improved from 0.87600 to 0.94100, saving model to weights_m4.best.hdf5\n",
      "Epoch 6/30\n",
      "100/100 [==============================] - 1021s 10s/step - loss: 0.1814 - accuracy: 0.9343 - val_loss: 0.5207 - val_accuracy: 0.9210\n",
      "\n",
      "Epoch 00006: val_accuracy did not improve from 0.94100\n",
      "Epoch 7/30\n",
      "100/100 [==============================] - 1009s 10s/step - loss: 0.1743 - accuracy: 0.9350 - val_loss: 0.3836 - val_accuracy: 0.9510\n",
      "\n",
      "Epoch 00007: val_accuracy improved from 0.94100 to 0.95100, saving model to weights_m4.best.hdf5\n",
      "Epoch 8/30\n",
      "100/100 [==============================] - 1037s 10s/step - loss: 0.1954 - accuracy: 0.9322 - val_loss: 0.3765 - val_accuracy: 0.9450\n",
      "\n",
      "Epoch 00008: val_accuracy did not improve from 0.95100\n",
      "Epoch 9/30\n",
      "100/100 [==============================] - 1005s 10s/step - loss: 0.1568 - accuracy: 0.9379 - val_loss: 0.5412 - val_accuracy: 0.9150\n",
      "\n",
      "Epoch 00009: val_accuracy did not improve from 0.95100\n",
      "Epoch 10/30\n",
      "100/100 [==============================] - 1012s 10s/step - loss: 0.1288 - accuracy: 0.9577 - val_loss: 0.6072 - val_accuracy: 0.9160\n",
      "\n",
      "Epoch 00010: val_accuracy did not improve from 0.95100\n",
      "Epoch 11/30\n",
      "100/100 [==============================] - 5031s 51s/step - loss: 0.1392 - accuracy: 0.9474 - val_loss: 0.5399 - val_accuracy: 0.8970\n",
      "\n",
      "Epoch 00011: val_accuracy did not improve from 0.95100\n",
      "Epoch 12/30\n",
      "100/100 [==============================] - 1143s 11s/step - loss: 0.1208 - accuracy: 0.9550 - val_loss: 0.2806 - val_accuracy: 0.9300\n",
      "\n",
      "Epoch 00012: ReduceLROnPlateau reducing learning rate to 1.9999999494757503e-05.\n",
      "\n",
      "Epoch 00012: val_accuracy did not improve from 0.95100\n",
      "Epoch 13/30\n",
      "100/100 [==============================] - 1116s 11s/step - loss: 0.0972 - accuracy: 0.9653 - val_loss: 0.1017 - val_accuracy: 0.9700\n",
      "\n",
      "Epoch 00013: val_accuracy improved from 0.95100 to 0.97000, saving model to weights_m4.best.hdf5\n",
      "Epoch 14/30\n",
      "100/100 [==============================] - 1102s 11s/step - loss: 0.0838 - accuracy: 0.9739 - val_loss: 0.1193 - val_accuracy: 0.9610\n",
      "\n",
      "Epoch 00014: val_accuracy did not improve from 0.97000\n",
      "Epoch 15/30\n",
      "100/100 [==============================] - 1129s 11s/step - loss: 0.1249 - accuracy: 0.9583 - val_loss: 0.0950 - val_accuracy: 0.9750\n",
      "\n",
      "Epoch 00015: val_accuracy improved from 0.97000 to 0.97500, saving model to weights_m4.best.hdf5\n",
      "Epoch 16/30\n",
      "100/100 [==============================] - 1178s 12s/step - loss: 0.0635 - accuracy: 0.9766 - val_loss: 0.0838 - val_accuracy: 0.9750\n",
      "\n",
      "Epoch 00016: val_accuracy did not improve from 0.97500\n",
      "Epoch 17/30\n",
      "100/100 [==============================] - 1162s 12s/step - loss: 0.0753 - accuracy: 0.9710 - val_loss: 0.0833 - val_accuracy: 0.9730\n",
      "\n",
      "Epoch 00017: val_accuracy did not improve from 0.97500\n",
      "Epoch 18/30\n",
      "100/100 [==============================] - 1083s 11s/step - loss: 0.0611 - accuracy: 0.9795 - val_loss: 0.0958 - val_accuracy: 0.9730\n",
      "\n",
      "Epoch 00018: val_accuracy did not improve from 0.97500\n",
      "Epoch 19/30\n",
      "100/100 [==============================] - 1111s 11s/step - loss: 0.0857 - accuracy: 0.9721 - val_loss: 0.1256 - val_accuracy: 0.9720\n",
      "\n",
      "Epoch 00019: val_accuracy did not improve from 0.97500\n",
      "Epoch 20/30\n",
      "100/100 [==============================] - 1126s 11s/step - loss: 0.0797 - accuracy: 0.9658 - val_loss: 0.1073 - val_accuracy: 0.9730\n",
      "\n",
      "Epoch 00020: ReduceLROnPlateau reducing learning rate to 3.999999898951501e-06.\n",
      "\n",
      "Epoch 00020: val_accuracy did not improve from 0.97500\n",
      "Epoch 21/30\n",
      "100/100 [==============================] - 1135s 11s/step - loss: 0.0934 - accuracy: 0.9734 - val_loss: 0.0981 - val_accuracy: 0.9720\n",
      "\n",
      "Epoch 00021: val_accuracy did not improve from 0.97500\n",
      "Epoch 22/30\n",
      "100/100 [==============================] - 1089s 11s/step - loss: 0.0522 - accuracy: 0.9785 - val_loss: 0.0755 - val_accuracy: 0.9770\n",
      "\n",
      "Epoch 00022: val_accuracy improved from 0.97500 to 0.97700, saving model to weights_m4.best.hdf5\n",
      "Epoch 23/30\n",
      "100/100 [==============================] - 1159s 12s/step - loss: 0.0935 - accuracy: 0.9676 - val_loss: 0.0970 - val_accuracy: 0.9710\n",
      "\n",
      "Epoch 00023: val_accuracy did not improve from 0.97700\n",
      "Epoch 24/30\n",
      "100/100 [==============================] - 1152s 12s/step - loss: 0.0507 - accuracy: 0.9870 - val_loss: 0.0799 - val_accuracy: 0.9760\n",
      "\n",
      "Epoch 00024: val_accuracy did not improve from 0.97700\n",
      "Epoch 25/30\n",
      "100/100 [==============================] - 1170s 12s/step - loss: 0.0608 - accuracy: 0.9795 - val_loss: 0.0881 - val_accuracy: 0.9770\n",
      "\n",
      "Epoch 00025: val_accuracy did not improve from 0.97700\n",
      "Epoch 26/30\n",
      "100/100 [==============================] - 1061s 11s/step - loss: 0.0520 - accuracy: 0.9825 - val_loss: 0.0780 - val_accuracy: 0.9780\n",
      "\n",
      "Epoch 00026: val_accuracy improved from 0.97700 to 0.97800, saving model to weights_m4.best.hdf5\n",
      "Epoch 27/30\n",
      "100/100 [==============================] - 1151s 12s/step - loss: 0.0705 - accuracy: 0.9741 - val_loss: 0.0949 - val_accuracy: 0.9760\n",
      "\n",
      "Epoch 00027: val_accuracy did not improve from 0.97800\n",
      "Epoch 28/30\n",
      "100/100 [==============================] - 1184s 12s/step - loss: 0.0573 - accuracy: 0.9855 - val_loss: 0.0818 - val_accuracy: 0.9790\n",
      "\n",
      "Epoch 00028: val_accuracy improved from 0.97800 to 0.97900, saving model to weights_m4.best.hdf5\n",
      "Epoch 29/30\n",
      "100/100 [==============================] - 1191s 12s/step - loss: 0.0499 - accuracy: 0.9815 - val_loss: 0.0792 - val_accuracy: 0.9790\n",
      "\n",
      "Epoch 00029: val_accuracy did not improve from 0.97900\n",
      "Epoch 30/30\n",
      "100/100 [==============================] - 1159s 12s/step - loss: 0.0453 - accuracy: 0.9836 - val_loss: 0.0973 - val_accuracy: 0.9760\n",
      "\n",
      "Epoch 00030: val_accuracy did not improve from 0.97900\n"
     ]
    }
   ],
   "source": [
    "learn_control = ReduceLROnPlateau(monitor='val_accuracy', patience=5,\n",
    "                                  verbose=1,factor=0.2, min_lr=1e-7)\n",
    "\n",
    "filepath=\"weights_m4.best.hdf5\"\n",
    "checkpoint = ModelCheckpoint(filepath, monitor='val_accuracy', verbose=1, save_best_only=True, mode='max')\n",
    "\n",
    "history = model4.fit_generator(\n",
    "      train_generator,\n",
    "      steps_per_epoch=100,\n",
    "      epochs=30,\n",
    "      validation_data=validation_generator,\n",
    "      validation_steps=50,\n",
    "      callbacks=[learn_control, checkpoint])"
   ]
  },
  {
   "cell_type": "markdown",
   "id": "transparent-wesley",
   "metadata": {},
   "source": [
    "This is an alternative visual to showing our validation and loss graphs"
   ]
  },
  {
   "cell_type": "code",
   "execution_count": 37,
   "id": "overall-cause",
   "metadata": {},
   "outputs": [
    {
     "data": {
      "text/plain": [
       "<AxesSubplot:>"
      ]
     },
     "execution_count": 37,
     "metadata": {},
     "output_type": "execute_result"
    },
    {
     "data": {
      "image/png": "[encoded data removed]",
      "text/plain": [
       "<Figure size 432x288 with 1 Axes>"
      ]
     },
     "metadata": {
      "needs_background": "light"
     },
     "output_type": "display_data"
    },
    {
     "data": {
      "image/png": "[encoded data removed]",
      "text/plain": [
       "<Figure size 432x288 with 1 Axes>"
      ]
     },
     "metadata": {
      "needs_background": "light"
     },
     "output_type": "display_data"
    }
   ],
   "source": [
    "import pandas as pd\n",
    "\n",
    "history_df = pd.DataFrame(history.history)\n",
    "history_df[['loss', 'val_loss']].plot()\n",
    "\n",
    "history_df = pd.DataFrame(history.history)\n",
    "history_df[['accuracy', 'val_accuracy']].plot()"
   ]
  },
  {
   "cell_type": "code",
   "execution_count": 38,
   "id": "novel-timer",
   "metadata": {},
   "outputs": [
    {
     "data": {
      "image/png": "[encoded data removed]",
      "text/plain": [
       "<Figure size 432x288 with 1 Axes>"
      ]
     },
     "metadata": {
      "needs_background": "light"
     },
     "output_type": "display_data"
    },
    {
     "data": {
      "image/png": "[encoded data removed]",
      "text/plain": [
       "<Figure size 432x288 with 1 Axes>"
      ]
     },
     "metadata": {
      "needs_background": "light"
     },
     "output_type": "display_data"
    }
   ],
   "source": [
    "acc = history.history['accuracy']\n",
    "val_acc = history.history['val_accuracy']\n",
    "loss = history.history['loss']\n",
    "val_loss = history.history['val_loss']\n",
    "\n",
    "epochs = range(len(acc))\n",
    "\n",
    "plt.plot(epochs, acc, 'bo', label='Training acc')\n",
    "plt.plot(epochs, val_acc, 'b', label='Validation acc')\n",
    "plt.title('Training and validation accuracy')\n",
    "plt.legend()\n",
    "\n",
    "plt.figure()\n",
    "\n",
    "plt.plot(epochs, loss, 'bo', label='Training loss')\n",
    "plt.plot(epochs, val_loss, 'b', label='Validation loss')\n",
    "plt.title('Training and validation loss')\n",
    "plt.legend()\n",
    "\n",
    "plt.show()"
   ]
  },
  {
   "cell_type": "markdown",
   "id": "grateful-david",
   "metadata": {},
   "source": [
    "Using these steps to further enhance the model, we are pleased to finally get a highly validation accuracy of roughly 97% to 98%. We experimented with data augmentation, dropout, callbacks to reach this level of accuracy and eliminate over fitting, which we see in the training curve nicely following the validation curve. It can be observed how the batch normalization layer seemed to really take into affect with our validation accuracy visibly stabilizing around the 15th epoch. Although we were worried for the potential of overfitting, this model not only performed the best by over 10% but also minimized overfitting to its lowest.\n",
    "\n",
    "Having now concluded building and fitting our models, we will now test their accuracy on the test data and analyze their confusion matrix."
   ]
  },
  {
   "cell_type": "markdown",
   "id": "completed-thumb",
   "metadata": {},
   "source": [
    "## Accuracy Measurements"
   ]
  },
  {
   "cell_type": "markdown",
   "id": "further-effects",
   "metadata": {},
   "source": [
    "Finally we will test our three trained models on the test data (i.e. 1185 images) which they have never seen yet as to evaluate their accuracy."
   ]
  },
  {
   "cell_type": "code",
   "execution_count": 39,
   "id": "preceding-netscape",
   "metadata": {},
   "outputs": [
    {
     "name": "stdout",
     "output_type": "stream",
     "text": [
      "Found 1185 images belonging to 2 classes.\n"
     ]
    }
   ],
   "source": [
    "# This code block properly formats our test data, similar to our training data\n",
    "test_generator = test_datagen.flow_from_directory(\n",
    "        test_dir,\n",
    "        target_size=(150, 150),\n",
    "        batch_size=20,\n",
    "        class_mode='binary',\n",
    "        shuffle=False) # make sure that the test data is not shuffled to accuratly perform the confusion matrix"
   ]
  },
  {
   "cell_type": "markdown",
   "id": "studied-thing",
   "metadata": {},
   "source": [
    "We will be using confusion matrices to clearly display the results of our work with different models in this notebook. \n",
    "\n",
    "A confusion matrix is a table that is used to describe the performance of a classification model (or \"classifier\") on a set of test data for which the true values are known. We expect this to clearly show us the following:\n",
    "\n",
    "true positives (TP): These are cases in which we predicted yes (they have malignant tumors) when they did not.\n",
    "\n",
    "true negatives (TN): We predicted no, and they did not have malignant tumors.\n",
    "\n",
    "false positives (FP): We predicted yes, but they did not have malignant tumors (Also known as a \"Type I \n",
    "error.\")\n",
    "\n",
    "false negatives (FN): We predicted no, but they do have malignant tumors. (Also known as a \"Type II error.\")\n",
    "\n",
    "We will be paying close attention to both type I and type II errors. However, it should be mentioned that our priority will be placed on minimizing Type II error, since predicting that a cancerous tumour is non-cancerous has the potential to have the most serious consequences to the patient."
   ]
  },
  {
   "cell_type": "markdown",
   "id": "aboriginal-mention",
   "metadata": {},
   "source": [
    "The following code block consists of a function built to form the Confusion Matrix. \n",
    "Reference: https://sites.google.com/view/amarnath-r/keras-deep-learning-image-classification-a-simple-example"
   ]
  },
  {
   "cell_type": "code",
   "execution_count": 40,
   "id": "outer-edwards",
   "metadata": {},
   "outputs": [],
   "source": [
    "#Plot the confusion matrix. Set Normalize = True/False\n",
    "\n",
    "def plot_confusion_matrix(cm, classes, normalize=False, title='Confusion matrix', cmap=plt.cm.Blues): # if was decided to not normalize the results as this is easier to interpret\n",
    "    \"\"\"\n",
    "    This function prints and plots the confusion matrix.\n",
    "    Normalization can be applied by setting `normalize=True`.\n",
    "    \"\"\"\n",
    "    plt.figure(figsize=(10,10)) # format size of plot\n",
    "\n",
    "    plt.imshow(cm, interpolation='nearest', cmap=cmap) \n",
    "    plt.title(title) # assign the input variable title to the plot\n",
    "    plt.colorbar() # adds a color bar next to plot\n",
    "\n",
    "    tick_marks = np.arange(len(classes)) # assigns the two classes to variable tick_marks\n",
    "    plt.xticks(tick_marks, classes, rotation=45) # formats the tick marks for x lable\n",
    "    plt.yticks(tick_marks, classes) # formats the tick marks for y lable\n",
    "\n",
    "    if normalize: # this if statement is irrelevant\n",
    "        cm = cm.astype('float') / cm.sum(axis=1)[:, np.newaxis]\n",
    "        cm = np.around(cm, decimals=2)\n",
    "        cm[np.isnan(cm)] = 0.0\n",
    "        print(\"Normalized confusion matrix\")\n",
    "    else: # always proceed to else statement\n",
    "        print('Confusion matrix, without normalization')\n",
    "    thresh = cm.max() / 2.\n",
    "    for i, j in itertools.product(range(cm.shape[0]), range(cm.shape[1])):\n",
    "        plt.text(j, i, cm[i, j],\n",
    "                 horizontalalignment=\"center\",\n",
    "                 color=\"white\" if cm[i, j] > thresh else \"black\")\n",
    "\n",
    "    plt.tight_layout()\n",
    "    plt.ylabel('True label')\n",
    "    plt.xlabel('Predicted label')"
   ]
  },
  {
   "cell_type": "code",
   "execution_count": 41,
   "id": "novel-proposition",
   "metadata": {},
   "outputs": [
    {
     "name": "stdout",
     "output_type": "stream",
     "text": [
      "['benign', 'malignant']\n"
     ]
    }
   ],
   "source": [
    "#Assign the Target names\n",
    "target_names = []\n",
    "for key in train_generator.class_indices:\n",
    "    target_names.append(key)\n",
    "\n",
    "print(target_names)"
   ]
  },
  {
   "cell_type": "markdown",
   "id": "alert-adoption",
   "metadata": {},
   "source": [
    "### Non-Convolutional NN"
   ]
  },
  {
   "cell_type": "code",
   "execution_count": 42,
   "id": "ongoing-unknown",
   "metadata": {},
   "outputs": [
    {
     "name": "stderr",
     "output_type": "stream",
     "text": [
      "C:\\Users\\const\\anaconda3\\envs\\triskelion\\lib\\site-packages\\tensorflow\\python\\keras\\engine\\training.py:1877: UserWarning: `Model.evaluate_generator` is deprecated and will be removed in a future version. Please use `Model.evaluate`, which supports generators.\n",
      "  warnings.warn('`Model.evaluate_generator` is deprecated and '\n"
     ]
    },
    {
     "name": "stdout",
     "output_type": "stream",
     "text": [
      "test acc: 0.8190000057220459\n"
     ]
    }
   ],
   "source": [
    "test_loss, test_acc = network.evaluate_generator(test_generator, steps=50)\n",
    "print('test acc:', test_acc)"
   ]
  },
  {
   "cell_type": "code",
   "execution_count": 45,
   "id": "civilian-implement",
   "metadata": {},
   "outputs": [
    {
     "name": "stderr",
     "output_type": "stream",
     "text": [
      "C:\\Users\\const\\anaconda3\\envs\\triskelion\\lib\\site-packages\\tensorflow\\python\\keras\\engine\\training.py:1905: UserWarning: `Model.predict_generator` is deprecated and will be removed in a future version. Please use `Model.predict`, which supports generators.\n",
      "  warnings.warn('`Model.predict_generator` is deprecated and '\n"
     ]
    },
    {
     "name": "stdout",
     "output_type": "stream",
     "text": [
      "Confusion Matrix\n",
      "Confusion matrix, without normalization\n"
     ]
    },
    {
     "data": {
      "image/png": "[encoded data removed]",
      "text/plain": [
       "<Figure size 720x720 with 2 Axes>"
      ]
     },
     "metadata": {
      "needs_background": "light"
     },
     "output_type": "display_data"
    }
   ],
   "source": [
    "import itertools\n",
    "from sklearn.metrics import classification_report, confusion_matrix\n",
    "import numpy as np\n",
    "#Confution Matrix \n",
    "\n",
    "Y_pred = network.predict_generator(test_generator)\n",
    "y_pred_r = np.round(Y_pred) # rounded predictions\n",
    "flat_list = [item for sublist in y_pred_r for item in sublist]\n",
    "y_pred = [int(a) for a in flat_list] # changing points to integers \n",
    "\n",
    "print('Confusion Matrix')\n",
    "\n",
    "cm = confusion_matrix(test_generator.classes, y_pred) # running the Keras built in confusion matrix model\n",
    "plot_confusion_matrix(cm, target_names, title='Confusion Matrix') # plotting the matrix "
   ]
  },
  {
   "cell_type": "markdown",
   "id": "assured-weight",
   "metadata": {},
   "source": [
    "With an accuracy of 81%, it is no surprise that our baseline non-convet model performed the worst on every front.\n",
    "\n",
    "Type II error: We see that our Non convolutional NN resulted in an inaccuracy prediction of 55 benign cases when they were malignant. This is concerning because in our case it would mean that these breast cancer patients would have potentially wrongfully left untreated, facing a dangerous escalation of state.\n",
    "\n",
    "Type I error: We also see 135 cases of benign cases wrongfully predicted as malignant. This would result in potentially unnecessary trauma of undergoing treatment, not to mention the cost and other associated inconveniences. \n",
    "\n",
    "These results are supported through the Classification Report below."
   ]
  },
  {
   "cell_type": "code",
   "execution_count": 46,
   "id": "graduate-henry",
   "metadata": {},
   "outputs": [
    {
     "name": "stdout",
     "output_type": "stream",
     "text": [
      "Classification Report\n",
      "              precision    recall  f1-score   support\n",
      "\n",
      "      benign       0.81      0.64      0.71       372\n",
      "   malignant       0.85      0.93      0.89       813\n",
      "\n",
      "    accuracy                           0.84      1185\n",
      "   macro avg       0.83      0.78      0.80      1185\n",
      "weighted avg       0.84      0.84      0.83      1185\n",
      "\n"
     ]
    }
   ],
   "source": [
    "#Print Classification Report\n",
    "\n",
    "print('Classification Report')\n",
    "print(classification_report(test_generator.classes, y_pred, target_names=target_names))"
   ]
  },
  {
   "cell_type": "markdown",
   "id": "signed-active",
   "metadata": {},
   "source": [
    "### Convolutional NN"
   ]
  },
  {
   "cell_type": "code",
   "execution_count": 47,
   "id": "tested-wrist",
   "metadata": {},
   "outputs": [
    {
     "name": "stderr",
     "output_type": "stream",
     "text": [
      "C:\\Users\\const\\anaconda3\\envs\\triskelion\\lib\\site-packages\\tensorflow\\python\\keras\\engine\\training.py:1877: UserWarning: `Model.evaluate_generator` is deprecated and will be removed in a future version. Please use `Model.evaluate`, which supports generators.\n",
      "  warnings.warn('`Model.evaluate_generator` is deprecated and '\n"
     ]
    },
    {
     "name": "stdout",
     "output_type": "stream",
     "text": [
      "test acc: 0.8299999833106995\n"
     ]
    }
   ],
   "source": [
    "test_loss, test_acc = model.evaluate_generator(test_generator, steps=50)\n",
    "print('test acc:', test_acc)"
   ]
  },
  {
   "cell_type": "code",
   "execution_count": 48,
   "id": "characteristic-score",
   "metadata": {},
   "outputs": [
    {
     "name": "stderr",
     "output_type": "stream",
     "text": [
      "C:\\Users\\const\\anaconda3\\envs\\triskelion\\lib\\site-packages\\tensorflow\\python\\keras\\engine\\training.py:1905: UserWarning: `Model.predict_generator` is deprecated and will be removed in a future version. Please use `Model.predict`, which supports generators.\n",
      "  warnings.warn('`Model.predict_generator` is deprecated and '\n"
     ]
    },
    {
     "name": "stdout",
     "output_type": "stream",
     "text": [
      "Confusion Matrix\n",
      "Confusion matrix, without normalization\n"
     ]
    },
    {
     "data": {
      "image/png": "[encoded data removed]",
      "text/plain": [
       "<Figure size 720x720 with 2 Axes>"
      ]
     },
     "metadata": {
      "needs_background": "light"
     },
     "output_type": "display_data"
    }
   ],
   "source": [
    "#Confution Matrix \n",
    "\n",
    "Y_pred = model.predict_generator(test_generator)\n",
    "y_pred_r = np.round(Y_pred)\n",
    "flat_list = [item for sublist in y_pred_r for item in sublist]\n",
    "y_pred = [int(a) for a in flat_list]\n",
    "\n",
    "print('Confusion Matrix')\n",
    "\n",
    "cm = confusion_matrix(test_generator.classes, y_pred)\n",
    "plot_confusion_matrix(cm, target_names, title='Confusion Matrix')"
   ]
  },
  {
   "cell_type": "code",
   "execution_count": 49,
   "id": "adjustable-london",
   "metadata": {},
   "outputs": [
    {
     "name": "stdout",
     "output_type": "stream",
     "text": [
      "Classification Report\n",
      "              precision    recall  f1-score   support\n",
      "\n",
      "      benign       0.80      0.66      0.73       372\n",
      "   malignant       0.86      0.93      0.89       813\n",
      "\n",
      "    accuracy                           0.84      1185\n",
      "   macro avg       0.83      0.79      0.81      1185\n",
      "weighted avg       0.84      0.84      0.84      1185\n",
      "\n"
     ]
    }
   ],
   "source": [
    "#Print Classification Report\n",
    "\n",
    "print('Classification Report')\n",
    "print(classification_report(test_generator.classes, y_pred, target_names=target_names))"
   ]
  },
  {
   "cell_type": "markdown",
   "id": "sought-anime",
   "metadata": {},
   "source": [
    "Most surprisingly from this report consisted of the relatively low performance of our baseline convet model compared to our non-convnet model. Not to mentionned it actually performed worst in terms of minimizing the rate of type II errors, having misclassified 60 compared to the non-convnet's 55. This was dissapointing to say the least. A potential explanation would simply suggest that given less than 5 millions params this was the best that a model from scratch could do. This would lead us to beleive that the additional tunning of these models would lead to only minor improvements in the overall accuracyof the models."
   ]
  },
  {
   "cell_type": "markdown",
   "id": "changed-lease",
   "metadata": {},
   "source": [
    "### Convolutional NN w/ Modifications"
   ]
  },
  {
   "cell_type": "code",
   "execution_count": 50,
   "id": "handmade-minute",
   "metadata": {},
   "outputs": [
    {
     "name": "stderr",
     "output_type": "stream",
     "text": [
      "C:\\Users\\const\\anaconda3\\envs\\triskelion\\lib\\site-packages\\tensorflow\\python\\keras\\engine\\training.py:1877: UserWarning: `Model.evaluate_generator` is deprecated and will be removed in a future version. Please use `Model.evaluate`, which supports generators.\n",
      "  warnings.warn('`Model.evaluate_generator` is deprecated and '\n"
     ]
    },
    {
     "name": "stdout",
     "output_type": "stream",
     "text": [
      "test acc: 0.8240000009536743\n"
     ]
    }
   ],
   "source": [
    "test_loss, test_acc = model2.evaluate_generator(test_generator, steps=50)\n",
    "print('test acc:', test_acc)"
   ]
  },
  {
   "cell_type": "code",
   "execution_count": 51,
   "id": "qualified-spread",
   "metadata": {},
   "outputs": [
    {
     "name": "stderr",
     "output_type": "stream",
     "text": [
      "C:\\Users\\const\\anaconda3\\envs\\triskelion\\lib\\site-packages\\tensorflow\\python\\keras\\engine\\training.py:1905: UserWarning: `Model.predict_generator` is deprecated and will be removed in a future version. Please use `Model.predict`, which supports generators.\n",
      "  warnings.warn('`Model.predict_generator` is deprecated and '\n"
     ]
    },
    {
     "name": "stdout",
     "output_type": "stream",
     "text": [
      "Confusion Matrix\n",
      "Confusion matrix, without normalization\n"
     ]
    },
    {
     "data": {
      "image/png": "[encoded data removed]",
      "text/plain": [
       "<Figure size 720x720 with 2 Axes>"
      ]
     },
     "metadata": {
      "needs_background": "light"
     },
     "output_type": "display_data"
    }
   ],
   "source": [
    "#Confution Matrix \n",
    "\n",
    "Y_pred = model2.predict_generator(test_generator)\n",
    "y_pred_r = np.round(Y_pred)\n",
    "flat_list = [item for sublist in y_pred_r for item in sublist]\n",
    "y_pred = [int(a) for a in flat_list]\n",
    "\n",
    "print('Confusion Matrix')\n",
    "\n",
    "cm = confusion_matrix(test_generator.classes, y_pred)\n",
    "plot_confusion_matrix(cm, target_names, title='Confusion Matrix')"
   ]
  },
  {
   "cell_type": "code",
   "execution_count": 52,
   "id": "coordinated-champion",
   "metadata": {},
   "outputs": [
    {
     "name": "stdout",
     "output_type": "stream",
     "text": [
      "Classification Report\n",
      "              precision    recall  f1-score   support\n",
      "\n",
      "      benign       0.80      0.65      0.71       372\n",
      "   malignant       0.85      0.92      0.89       813\n",
      "\n",
      "    accuracy                           0.84      1185\n",
      "   macro avg       0.82      0.79      0.80      1185\n",
      "weighted avg       0.83      0.84      0.83      1185\n",
      "\n"
     ]
    }
   ],
   "source": [
    "#Print Classification Report\n",
    "\n",
    "print('Classification Report')\n",
    "print(classification_report(test_generator.classes, y_pred, target_names=target_names))"
   ]
  },
  {
   "cell_type": "markdown",
   "id": "polyphonic-baseline",
   "metadata": {},
   "source": [
    "The awfully similar performance of our updated convet in regard to both the non-convnet and baseline convnet would reinforce the belief that the models were not dense enough to capture all the necessary elements of each image. This is support by the impressive performance of our pretrained model.\n",
    "\n",
    "Type II error: We see that our Non convolutional NN resulted in an inaccuracy prediction of 62 benign cases when they were actually malignant. This is concerning because in our case it would mean that these breast cancer patients would have potentially wrongfully left untreated, facing a dangerous escalation of state. \n",
    "\n",
    "Type I error: We also see 131 cases of benign cases wrongfully predicted as malignant. This would result in potentially unnecessary trauma of undergoing treatment, not to mention the cost and other associated inconveniences.\n"
   ]
  },
  {
   "cell_type": "markdown",
   "id": "figured-merit",
   "metadata": {},
   "source": [
    "### Convolutional NN w/ Pre-Trained Model: DenseNet201"
   ]
  },
  {
   "cell_type": "code",
   "execution_count": 53,
   "id": "rental-nature",
   "metadata": {},
   "outputs": [
    {
     "name": "stderr",
     "output_type": "stream",
     "text": [
      "C:\\Users\\const\\anaconda3\\envs\\triskelion\\lib\\site-packages\\tensorflow\\python\\keras\\engine\\training.py:1877: UserWarning: `Model.evaluate_generator` is deprecated and will be removed in a future version. Please use `Model.evaluate`, which supports generators.\n",
      "  warnings.warn('`Model.evaluate_generator` is deprecated and '\n"
     ]
    },
    {
     "name": "stdout",
     "output_type": "stream",
     "text": [
      "test acc: 0.9779999852180481\n"
     ]
    }
   ],
   "source": [
    "test_loss, test_acc = model4.evaluate_generator(test_generator, steps=50)\n",
    "print('test acc:', test_acc)"
   ]
  },
  {
   "cell_type": "code",
   "execution_count": 54,
   "id": "preceding-renaissance",
   "metadata": {},
   "outputs": [
    {
     "name": "stderr",
     "output_type": "stream",
     "text": [
      "C:\\Users\\const\\anaconda3\\envs\\triskelion\\lib\\site-packages\\tensorflow\\python\\keras\\engine\\training.py:1905: UserWarning: `Model.predict_generator` is deprecated and will be removed in a future version. Please use `Model.predict`, which supports generators.\n",
      "  warnings.warn('`Model.predict_generator` is deprecated and '\n"
     ]
    },
    {
     "name": "stdout",
     "output_type": "stream",
     "text": [
      "Confusion Matrix\n",
      "Confusion matrix, without normalization\n"
     ]
    },
    {
     "data": {
      "image/png": "[encoded data removed]",
      "text/plain": [
       "<Figure size 720x720 with 2 Axes>"
      ]
     },
     "metadata": {
      "needs_background": "light"
     },
     "output_type": "display_data"
    }
   ],
   "source": [
    "import itertools \n",
    "#Confution Matrix \n",
    "\n",
    "Y_pred = model4.predict_generator(test_generator)\n",
    "y_pred_r = np.round(Y_pred)\n",
    "flat_list = [item for sublist in y_pred_r for item in sublist]\n",
    "y_pred = [int(a) for a in flat_list]\n",
    "\n",
    "print('Confusion Matrix')\n",
    "\n",
    "cm = confusion_matrix(test_generator.classes, y_pred)\n",
    "plot_confusion_matrix(cm, target_names, title='Confusion Matrix')"
   ]
  },
  {
   "cell_type": "code",
   "execution_count": 55,
   "id": "flying-violin",
   "metadata": {},
   "outputs": [
    {
     "name": "stdout",
     "output_type": "stream",
     "text": [
      "Classification Report\n",
      "              precision    recall  f1-score   support\n",
      "\n",
      "      benign       0.97      0.97      0.97       372\n",
      "   malignant       0.98      0.99      0.98       813\n",
      "\n",
      "    accuracy                           0.98      1185\n",
      "   macro avg       0.98      0.98      0.98      1185\n",
      "weighted avg       0.98      0.98      0.98      1185\n",
      "\n"
     ]
    }
   ],
   "source": [
    "#Print Classification Report\n",
    "\n",
    "print('Classification Report')\n",
    "print(classification_report(test_generator.classes, y_pred, target_names=target_names))"
   ]
  },
  {
   "cell_type": "markdown",
   "id": "electronic-sarah",
   "metadata": {},
   "source": [
    "Finally, the convnet with the pretrained model and over 18 million params performed the absolute best by a wide margin of over 15%. Minimizing the false negative to only 12 miss-classifications out of 813 images representing an impressive error rate of 1.48%. This was indeed a very much welcomed surprise and helped stress the importance of properly aligning the complexity of your model with that of your images. We will now provide our conclusion."
   ]
  },
  {
   "cell_type": "markdown",
   "id": "natural-theta",
   "metadata": {},
   "source": [
    "## Conclusion "
   ]
  },
  {
   "cell_type": "markdown",
   "id": "latter-bahrain",
   "metadata": {},
   "source": [
    "In this report, we went over multiple Neural Net models to tackle the problem of misclassifications of breast cancer patients. Breast Cancer is the second leading cause of cancer deaths in North America and we hoped to examine how deep learning can contribute to solving the problem of these misclassifications. \n",
    "\n",
    "Our results took a long time to develop, since we constructed multiple models and experimented with various tools of improvement, but we believe that the effort paid off with our final model resulting in 98% accuracy. However, when we think that since there is still a chance of wrongfully classifying a patient as benign or malignant cases, this approach is best used as an additional tool in the toolkit of pathologists when they make their final decisions. We hope that this would be an extra layer of confirmation or error proofing rather than a definitive authority when it comes to the faith of patients. \n",
    "\n",
    "Our pretrained model which used leveraged the pretrained model DenseNet201, proved to be the best way to approach this problem. The portability of using the trained features of this model acted as a key advantage in comparison to our other work. Our mentioned previously, one of our main takeaways from this journey consisted the importance of ensuring that the model depth and complexity appropriately reflects the data processed. Both three models before attempting the DenseNet201, seemed to be stuck around the low to mid 80s regardless of any improvements or modifications brought to the model. Thankfully, however, with a little patience we achieved our goal of developing a model that we believe could benefit pathologist in confirming their diagnosis and bringing more confidence and certainty to a potential life altering diagnosis.\n",
    "\n",
    "In our Appendix below, we have attached some work performed that simply followed the steps used in the textbook \"Deep Learning with Python\" by Francois Chollet, in the authors attempt to leverage the pretrained model VGG16 to a vision problem. Out of curiosity, we attempted to replicate the steps used and decided to post the results. This added section is not part of our report and only serves as an extra section if the reader is interested. In quick summary, the final model obtained an accuracy of 87%, which is better than our first three models, however 10% less accurate than our final DenseNet201 model, perhaps reflecting that DenseNet201 was a superior choice over VGG16 or that it simply had less than half the number of trainable params than our model. Notice, because this is not part of our final report, we did not include any comments as we were only interested in the final results and any information regarding the methodology can be referenced in the textbook."
   ]
  },
  {
   "cell_type": "markdown",
   "id": "spanish-extreme",
   "metadata": {},
   "source": [
    "# Appendix\n",
    "\n",
    "## Using a pre-trained convnet: VGG16 based on \"Deep Learning with Python\" by Francois Chollet\n",
    "\n",
    "### Feature Extraction"
   ]
  },
  {
   "cell_type": "code",
   "execution_count": 56,
   "id": "champion-program",
   "metadata": {},
   "outputs": [],
   "source": [
    "from tensorflow.keras.applications import VGG16\n",
    "\n",
    "conv_base = VGG16(weights='imagenet', #weights, to specify which weight checkpoint to initialize the model from\n",
    "                  include_top=False, #include_top, which refers to including or not the densely-connected classifier on top of the network. By default, this densely-connected classifier would correspond to the 1000 classes from ImageNet. Since we intend to use our own densely-connected classifier (with only two classes, cat and dog), we don't need to include it.\n",
    "                  input_shape=(150, 150, 3)) #input_shape, the shape of the image tensors that we will feed to the network. This argument is purely optional: if we don't pass it, then the network will be able to process inputs of any size.\n"
   ]
  },
  {
   "cell_type": "code",
   "execution_count": 57,
   "id": "stock-trance",
   "metadata": {},
   "outputs": [
    {
     "name": "stdout",
     "output_type": "stream",
     "text": [
      "Model: \"vgg16\"\n",
      "_________________________________________________________________\n",
      "Layer (type)                 Output Shape              Param #   \n",
      "=================================================================\n",
      "input_2 (InputLayer)         [(None, 150, 150, 3)]     0         \n",
      "_________________________________________________________________\n",
      "block1_conv1 (Conv2D)        (None, 150, 150, 64)      1792      \n",
      "_________________________________________________________________\n",
      "block1_conv2 (Conv2D)        (None, 150, 150, 64)      36928     \n",
      "_________________________________________________________________\n",
      "block1_pool (MaxPooling2D)   (None, 75, 75, 64)        0         \n",
      "_________________________________________________________________\n",
      "block2_conv1 (Conv2D)        (None, 75, 75, 128)       73856     \n",
      "_________________________________________________________________\n",
      "block2_conv2 (Conv2D)        (None, 75, 75, 128)       147584    \n",
      "_________________________________________________________________\n",
      "block2_pool (MaxPooling2D)   (None, 37, 37, 128)       0         \n",
      "_________________________________________________________________\n",
      "block3_conv1 (Conv2D)        (None, 37, 37, 256)       295168    \n",
      "_________________________________________________________________\n",
      "block3_conv2 (Conv2D)        (None, 37, 37, 256)       590080    \n",
      "_________________________________________________________________\n",
      "block3_conv3 (Conv2D)        (None, 37, 37, 256)       590080    \n",
      "_________________________________________________________________\n",
      "block3_pool (MaxPooling2D)   (None, 18, 18, 256)       0         \n",
      "_________________________________________________________________\n",
      "block4_conv1 (Conv2D)        (None, 18, 18, 512)       1180160   \n",
      "_________________________________________________________________\n",
      "block4_conv2 (Conv2D)        (None, 18, 18, 512)       2359808   \n",
      "_________________________________________________________________\n",
      "block4_conv3 (Conv2D)        (None, 18, 18, 512)       2359808   \n",
      "_________________________________________________________________\n",
      "block4_pool (MaxPooling2D)   (None, 9, 9, 512)         0         \n",
      "_________________________________________________________________\n",
      "block5_conv1 (Conv2D)        (None, 9, 9, 512)         2359808   \n",
      "_________________________________________________________________\n",
      "block5_conv2 (Conv2D)        (None, 9, 9, 512)         2359808   \n",
      "_________________________________________________________________\n",
      "block5_conv3 (Conv2D)        (None, 9, 9, 512)         2359808   \n",
      "_________________________________________________________________\n",
      "block5_pool (MaxPooling2D)   (None, 4, 4, 512)         0         \n",
      "=================================================================\n",
      "Total params: 14,714,688\n",
      "Trainable params: 14,714,688\n",
      "Non-trainable params: 0\n",
      "_________________________________________________________________\n"
     ]
    }
   ],
   "source": [
    "conv_base.summary()\n"
   ]
  },
  {
   "cell_type": "code",
   "execution_count": 58,
   "id": "graphic-magazine",
   "metadata": {},
   "outputs": [
    {
     "name": "stdout",
     "output_type": "stream",
     "text": [
      "Found 5530 images belonging to 2 classes.\n",
      "Found 1185 images belonging to 2 classes.\n",
      "Found 1185 images belonging to 2 classes.\n"
     ]
    }
   ],
   "source": [
    "import os\n",
    "import numpy as np\n",
    "from keras.preprocessing.image import ImageDataGenerator\n",
    "\n",
    "datagen = ImageDataGenerator(rescale=1./255)\n",
    "batch_size = 20\n",
    "\n",
    "def extract_features(directory, sample_count):\n",
    "    features = np.zeros(shape=(sample_count, 4, 4, 512))\n",
    "    labels = np.zeros(shape=(sample_count))\n",
    "    generator = datagen.flow_from_directory(\n",
    "        directory,\n",
    "        target_size=(150, 150),\n",
    "        batch_size=batch_size,\n",
    "        class_mode='binary')\n",
    "    i = 0\n",
    "    for inputs_batch, labels_batch in generator:\n",
    "        features_batch = conv_base.predict(inputs_batch)\n",
    "        features[i * batch_size : (i + 1) * batch_size] = features_batch\n",
    "        labels[i * batch_size : (i + 1) * batch_size] = labels_batch\n",
    "        i += 1\n",
    "        if i * batch_size >= sample_count:\n",
    "            # Note that since generators yield data indefinitely in a loop,\n",
    "            # we must `break` after every image has been seen once.\n",
    "            break\n",
    "    return features, labels\n",
    "\n",
    "train_features, train_labels = extract_features(train_dir, 5530)\n",
    "validation_features, validation_labels = extract_features(validation_dir, 1185)\n",
    "test_features, test_labels = extract_features(test_dir, 1185)"
   ]
  },
  {
   "cell_type": "code",
   "execution_count": 59,
   "id": "announced-salem",
   "metadata": {},
   "outputs": [],
   "source": [
    "train_features = np.reshape(train_features, (5530, 4 * 4 * 512))\n",
    "validation_features = np.reshape(validation_features, (1185, 4 * 4 * 512))\n",
    "test_features = np.reshape(test_features, (1185, 4 * 4 * 512))"
   ]
  },
  {
   "cell_type": "code",
   "execution_count": 60,
   "id": "million-institution",
   "metadata": {},
   "outputs": [
    {
     "name": "stdout",
     "output_type": "stream",
     "text": [
      "Epoch 1/30\n",
      "277/277 [==============================] - 12s 22ms/step - loss: 0.6234 - acc: 0.6680 - val_loss: 0.5312 - val_acc: 0.7316\n",
      "Epoch 2/30\n",
      "277/277 [==============================] - 6s 22ms/step - loss: 0.5323 - acc: 0.7346 - val_loss: 0.4968 - val_acc: 0.7570\n",
      "Epoch 3/30\n",
      "277/277 [==============================] - 6s 22ms/step - loss: 0.4982 - acc: 0.7605 - val_loss: 0.4802 - val_acc: 0.7865\n",
      "Epoch 4/30\n",
      "277/277 [==============================] - 6s 21ms/step - loss: 0.4587 - acc: 0.7876 - val_loss: 0.4577 - val_acc: 0.7865\n",
      "Epoch 5/30\n",
      "277/277 [==============================] - 6s 21ms/step - loss: 0.4418 - acc: 0.7968 - val_loss: 0.4484 - val_acc: 0.7916\n",
      "Epoch 6/30\n",
      "277/277 [==============================] - 6s 22ms/step - loss: 0.4296 - acc: 0.8054 - val_loss: 0.4353 - val_acc: 0.7966\n",
      "Epoch 7/30\n",
      "277/277 [==============================] - 6s 21ms/step - loss: 0.4084 - acc: 0.8213 - val_loss: 0.4307 - val_acc: 0.8101\n",
      "Epoch 8/30\n",
      "277/277 [==============================] - 6s 23ms/step - loss: 0.3997 - acc: 0.8251 - val_loss: 0.4318 - val_acc: 0.8051\n",
      "Epoch 9/30\n",
      "277/277 [==============================] - 7s 24ms/step - loss: 0.3921 - acc: 0.8297 - val_loss: 0.4187 - val_acc: 0.8101\n",
      "Epoch 10/30\n",
      "277/277 [==============================] - 6s 22ms/step - loss: 0.3793 - acc: 0.8308 - val_loss: 0.4204 - val_acc: 0.8059\n",
      "Epoch 11/30\n",
      "277/277 [==============================] - 6s 21ms/step - loss: 0.3644 - acc: 0.8485 - val_loss: 0.4168 - val_acc: 0.8059\n",
      "Epoch 12/30\n",
      "277/277 [==============================] - 6s 21ms/step - loss: 0.3461 - acc: 0.8555 - val_loss: 0.4172 - val_acc: 0.8059\n",
      "Epoch 13/30\n",
      "277/277 [==============================] - 6s 22ms/step - loss: 0.3548 - acc: 0.8481 - val_loss: 0.4121 - val_acc: 0.8076\n",
      "Epoch 14/30\n",
      "277/277 [==============================] - 6s 21ms/step - loss: 0.3447 - acc: 0.8567 - val_loss: 0.4173 - val_acc: 0.8110\n",
      "Epoch 15/30\n",
      "277/277 [==============================] - 6s 22ms/step - loss: 0.3366 - acc: 0.8653 - val_loss: 0.3996 - val_acc: 0.8262\n",
      "Epoch 16/30\n",
      "277/277 [==============================] - 6s 23ms/step - loss: 0.3368 - acc: 0.8569 - val_loss: 0.4001 - val_acc: 0.8321\n",
      "Epoch 17/30\n",
      "277/277 [==============================] - 6s 23ms/step - loss: 0.3291 - acc: 0.8623 - val_loss: 0.3977 - val_acc: 0.8228\n",
      "Epoch 18/30\n",
      "277/277 [==============================] - 6s 22ms/step - loss: 0.3083 - acc: 0.8757 - val_loss: 0.4019 - val_acc: 0.8186\n",
      "Epoch 19/30\n",
      "277/277 [==============================] - 6s 21ms/step - loss: 0.3109 - acc: 0.8763 - val_loss: 0.3927 - val_acc: 0.8304\n",
      "Epoch 20/30\n",
      "277/277 [==============================] - 6s 22ms/step - loss: 0.3098 - acc: 0.8806 - val_loss: 0.3945 - val_acc: 0.8304\n",
      "Epoch 21/30\n",
      "277/277 [==============================] - 6s 21ms/step - loss: 0.3026 - acc: 0.8763 - val_loss: 0.3967 - val_acc: 0.8236\n",
      "Epoch 22/30\n",
      "277/277 [==============================] - 6s 21ms/step - loss: 0.3062 - acc: 0.8756 - val_loss: 0.3916 - val_acc: 0.8278\n",
      "Epoch 23/30\n",
      "277/277 [==============================] - 6s 22ms/step - loss: 0.2895 - acc: 0.8889 - val_loss: 0.3946 - val_acc: 0.8278\n",
      "Epoch 24/30\n",
      "277/277 [==============================] - 6s 22ms/step - loss: 0.2911 - acc: 0.8878 - val_loss: 0.3987 - val_acc: 0.8253\n",
      "Epoch 25/30\n",
      "277/277 [==============================] - 6s 22ms/step - loss: 0.2730 - acc: 0.8895 - val_loss: 0.3897 - val_acc: 0.8338\n",
      "Epoch 26/30\n",
      "277/277 [==============================] - 6s 21ms/step - loss: 0.2761 - acc: 0.8931 - val_loss: 0.3922 - val_acc: 0.8346\n",
      "Epoch 27/30\n",
      "277/277 [==============================] - 6s 21ms/step - loss: 0.2746 - acc: 0.8923 - val_loss: 0.3903 - val_acc: 0.8371\n",
      "Epoch 28/30\n",
      "277/277 [==============================] - 6s 22ms/step - loss: 0.2555 - acc: 0.9064 - val_loss: 0.3921 - val_acc: 0.8397\n",
      "Epoch 29/30\n",
      "277/277 [==============================] - 6s 22ms/step - loss: 0.2720 - acc: 0.8987 - val_loss: 0.3926 - val_acc: 0.8304\n",
      "Epoch 30/30\n",
      "277/277 [==============================] - 6s 22ms/step - loss: 0.2587 - acc: 0.9038 - val_loss: 0.3923 - val_acc: 0.8371\n"
     ]
    }
   ],
   "source": [
    "from tensorflow.keras import models\n",
    "from tensorflow.keras import layers\n",
    "from tensorflow.keras import optimizers\n",
    "\n",
    "model3 = models.Sequential()\n",
    "model3.add(layers.Dense(256, activation='relu', input_dim=4 * 4 * 512))\n",
    "model3.add(layers.Dropout(0.5))\n",
    "model3.add(layers.Dense(1, activation='sigmoid'))\n",
    "\n",
    "model3.compile(optimizer=optimizers.RMSprop(lr=2e-5),\n",
    "              loss='binary_crossentropy',\n",
    "              metrics=['acc'])\n",
    "\n",
    "history = model3.fit(train_features, train_labels,\n",
    "                    epochs=30,\n",
    "                    batch_size=20,\n",
    "                    validation_data=(validation_features, validation_labels))\n"
   ]
  },
  {
   "cell_type": "code",
   "execution_count": 61,
   "id": "exotic-criterion",
   "metadata": {},
   "outputs": [
    {
     "data": {
      "image/png": "[encoded data removed]",
      "text/plain": [
       "<Figure size 432x288 with 1 Axes>"
      ]
     },
     "metadata": {
      "needs_background": "light"
     },
     "output_type": "display_data"
    },
    {
     "data": {
      "image/png": "[encoded data removed]",
      "text/plain": [
       "<Figure size 432x288 with 1 Axes>"
      ]
     },
     "metadata": {
      "needs_background": "light"
     },
     "output_type": "display_data"
    }
   ],
   "source": [
    "import matplotlib.pyplot as plt\n",
    "\n",
    "acc = history.history['acc']\n",
    "val_acc = history.history['val_acc']\n",
    "loss = history.history['loss']\n",
    "val_loss = history.history['val_loss']\n",
    "\n",
    "epochs = range(len(acc))\n",
    "\n",
    "plt.plot(epochs, acc, 'bo', label='Training acc')\n",
    "plt.plot(epochs, val_acc, 'b', label='Validation acc')\n",
    "plt.title('Training and validation accuracy')\n",
    "plt.legend()\n",
    "\n",
    "plt.figure()\n",
    "\n",
    "plt.plot(epochs, loss, 'bo', label='Training loss')\n",
    "plt.plot(epochs, val_loss, 'b', label='Validation loss')\n",
    "plt.title('Training and validation loss')\n",
    "plt.legend()\n",
    "\n",
    "plt.show()"
   ]
  },
  {
   "cell_type": "code",
   "execution_count": 62,
   "id": "structural-emission",
   "metadata": {},
   "outputs": [],
   "source": [
    "from tensorflow.keras import models\n",
    "from tensorflow.keras import layers\n",
    "\n",
    "model3 = models.Sequential()\n",
    "model3.add(conv_base)\n",
    "model3.add(layers.Flatten())\n",
    "model3.add(layers.Dense(256, activation='relu'))\n",
    "model3.add(layers.Dense(1, activation='sigmoid'))"
   ]
  },
  {
   "cell_type": "code",
   "execution_count": 63,
   "id": "atmospheric-donor",
   "metadata": {},
   "outputs": [
    {
     "name": "stdout",
     "output_type": "stream",
     "text": [
      "Model: \"sequential_5\"\n",
      "_________________________________________________________________\n",
      "Layer (type)                 Output Shape              Param #   \n",
      "=================================================================\n",
      "vgg16 (Functional)           (None, 4, 4, 512)         14714688  \n",
      "_________________________________________________________________\n",
      "flatten_3 (Flatten)          (None, 8192)              0         \n",
      "_________________________________________________________________\n",
      "dense_9 (Dense)              (None, 256)               2097408   \n",
      "_________________________________________________________________\n",
      "dense_10 (Dense)             (None, 1)                 257       \n",
      "=================================================================\n",
      "Total params: 16,812,353\n",
      "Trainable params: 16,812,353\n",
      "Non-trainable params: 0\n",
      "_________________________________________________________________\n"
     ]
    }
   ],
   "source": [
    "model3.summary()"
   ]
  },
  {
   "cell_type": "code",
   "execution_count": 64,
   "id": "aging-windows",
   "metadata": {},
   "outputs": [
    {
     "name": "stdout",
     "output_type": "stream",
     "text": [
      "This is the number of trainable weights before freezing the conv base: 30\n"
     ]
    }
   ],
   "source": [
    "print('This is the number of trainable weights '\n",
    "      'before freezing the conv base:', len(model3.trainable_weights))"
   ]
  },
  {
   "cell_type": "code",
   "execution_count": 65,
   "id": "continent-egyptian",
   "metadata": {},
   "outputs": [],
   "source": [
    "conv_base.trainable = False"
   ]
  },
  {
   "cell_type": "code",
   "execution_count": 66,
   "id": "inner-pilot",
   "metadata": {},
   "outputs": [
    {
     "name": "stdout",
     "output_type": "stream",
     "text": [
      "This is the number of trainable weights after freezing the conv base: 4\n"
     ]
    }
   ],
   "source": [
    "\n",
    "print('This is the number of trainable weights '\n",
    "      'after freezing the conv base:', len(model3.trainable_weights))"
   ]
  },
  {
   "cell_type": "code",
   "execution_count": 67,
   "id": "circular-monkey",
   "metadata": {},
   "outputs": [
    {
     "name": "stdout",
     "output_type": "stream",
     "text": [
      "Found 5530 images belonging to 2 classes.\n",
      "Found 1185 images belonging to 2 classes.\n"
     ]
    },
    {
     "name": "stderr",
     "output_type": "stream",
     "text": [
      "C:\\Users\\const\\anaconda3\\envs\\triskelion\\lib\\site-packages\\tensorflow\\python\\keras\\engine\\training.py:1844: UserWarning: `Model.fit_generator` is deprecated and will be removed in a future version. Please use `Model.fit`, which supports generators.\n",
      "  warnings.warn('`Model.fit_generator` is deprecated and '\n"
     ]
    },
    {
     "name": "stdout",
     "output_type": "stream",
     "text": [
      "Epoch 1/30\n",
      "100/100 - 371s - loss: 0.5881 - acc: 0.7025 - val_loss: 0.5669 - val_acc: 0.6980\n",
      "Epoch 2/30\n",
      "100/100 - 369s - loss: 0.5614 - acc: 0.7111 - val_loss: 0.5391 - val_acc: 0.7070\n",
      "Epoch 3/30\n",
      "100/100 - 370s - loss: 0.5320 - acc: 0.7340 - val_loss: 0.5147 - val_acc: 0.7460\n",
      "Epoch 4/30\n",
      "100/100 - 414s - loss: 0.5131 - acc: 0.7455 - val_loss: 0.5180 - val_acc: 0.7280\n",
      "Epoch 5/30\n",
      "100/100 - 413s - loss: 0.5043 - acc: 0.7447 - val_loss: 0.4912 - val_acc: 0.7530\n",
      "Epoch 6/30\n",
      "100/100 - 424s - loss: 0.4991 - acc: 0.7705 - val_loss: 0.4769 - val_acc: 0.7750\n",
      "Epoch 7/30\n",
      "100/100 - 390s - loss: 0.4735 - acc: 0.7759 - val_loss: 0.5008 - val_acc: 0.7420\n",
      "Epoch 8/30\n",
      "100/100 - 372s - loss: 0.4847 - acc: 0.7688 - val_loss: 0.4957 - val_acc: 0.7460\n",
      "Epoch 9/30\n",
      "100/100 - 369s - loss: 0.4603 - acc: 0.7865 - val_loss: 0.4614 - val_acc: 0.7920\n",
      "Epoch 10/30\n",
      "100/100 - 369s - loss: 0.4732 - acc: 0.7790 - val_loss: 0.4575 - val_acc: 0.7970\n",
      "Epoch 11/30\n",
      "100/100 - 377s - loss: 0.4523 - acc: 0.8010 - val_loss: 0.4564 - val_acc: 0.7900\n",
      "Epoch 12/30\n",
      "100/100 - 379s - loss: 0.4277 - acc: 0.8181 - val_loss: 0.4336 - val_acc: 0.7990\n",
      "Epoch 13/30\n",
      "100/100 - 404s - loss: 0.4487 - acc: 0.7905 - val_loss: 0.4533 - val_acc: 0.7840\n",
      "Epoch 14/30\n",
      "100/100 - 385s - loss: 0.4631 - acc: 0.7864 - val_loss: 0.4621 - val_acc: 0.7730\n",
      "Epoch 15/30\n",
      "100/100 - 378s - loss: 0.4363 - acc: 0.8095 - val_loss: 0.4347 - val_acc: 0.8020\n",
      "Epoch 16/30\n",
      "100/100 - 371s - loss: 0.4384 - acc: 0.8000 - val_loss: 0.4448 - val_acc: 0.7850\n",
      "Epoch 17/30\n",
      "100/100 - 369s - loss: 0.4385 - acc: 0.8055 - val_loss: 0.4395 - val_acc: 0.7920\n",
      "Epoch 18/30\n",
      "100/100 - 375s - loss: 0.4142 - acc: 0.8120 - val_loss: 0.4855 - val_acc: 0.7620\n",
      "Epoch 19/30\n",
      "100/100 - 390s - loss: 0.4343 - acc: 0.8020 - val_loss: 0.4367 - val_acc: 0.8000\n",
      "Epoch 20/30\n",
      "100/100 - 387s - loss: 0.4353 - acc: 0.8111 - val_loss: 0.4391 - val_acc: 0.7950\n",
      "Epoch 21/30\n",
      "100/100 - 371s - loss: 0.4114 - acc: 0.8196 - val_loss: 0.4297 - val_acc: 0.8100\n",
      "Epoch 22/30\n",
      "100/100 - 371s - loss: 0.4154 - acc: 0.8135 - val_loss: 0.4378 - val_acc: 0.8020\n",
      "Epoch 23/30\n",
      "100/100 - 368s - loss: 0.4082 - acc: 0.8166 - val_loss: 0.4367 - val_acc: 0.8000\n",
      "Epoch 24/30\n",
      "100/100 - 368s - loss: 0.4063 - acc: 0.8230 - val_loss: 0.4409 - val_acc: 0.8050\n",
      "Epoch 25/30\n",
      "100/100 - 375s - loss: 0.4160 - acc: 0.8090 - val_loss: 0.4239 - val_acc: 0.8220\n",
      "Epoch 26/30\n",
      "100/100 - 395s - loss: 0.4245 - acc: 0.8055 - val_loss: 0.4234 - val_acc: 0.8110\n",
      "Epoch 27/30\n",
      "100/100 - 401s - loss: 0.4098 - acc: 0.8216 - val_loss: 0.4681 - val_acc: 0.7710\n",
      "Epoch 28/30\n",
      "100/100 - 371s - loss: 0.3987 - acc: 0.8195 - val_loss: 0.4212 - val_acc: 0.8100\n",
      "Epoch 29/30\n",
      "100/100 - 396s - loss: 0.3974 - acc: 0.8250 - val_loss: 0.4495 - val_acc: 0.7900\n",
      "Epoch 30/30\n",
      "100/100 - 425s - loss: 0.3999 - acc: 0.8221 - val_loss: 0.4523 - val_acc: 0.7870\n"
     ]
    }
   ],
   "source": [
    "from tensorflow.keras.preprocessing.image import ImageDataGenerator\n",
    "\n",
    "train_datagen = ImageDataGenerator(\n",
    "      rescale=1./255,\n",
    "      rotation_range=40,\n",
    "      width_shift_range=0.2,\n",
    "      height_shift_range=0.2,\n",
    "      shear_range=0.2,\n",
    "      zoom_range=0.2,\n",
    "      horizontal_flip=True,\n",
    "      fill_mode='nearest')\n",
    "\n",
    "# Note that the validation data should not be augmented!\n",
    "test_datagen = ImageDataGenerator(rescale=1./255)\n",
    "\n",
    "train_generator = train_datagen.flow_from_directory(\n",
    "        # This is the target directory\n",
    "        train_dir,\n",
    "        # All images will be resized to 150x150\n",
    "        target_size=(150, 150),\n",
    "        batch_size=20,\n",
    "        # Since we use binary_crossentropy loss, we need binary labels\n",
    "        class_mode='binary')\n",
    "\n",
    "validation_generator = test_datagen.flow_from_directory(\n",
    "        validation_dir,\n",
    "        target_size=(150, 150),\n",
    "        batch_size=20,\n",
    "        class_mode='binary')\n",
    "\n",
    "model3.compile(loss='binary_crossentropy',\n",
    "              optimizer=optimizers.RMSprop(lr=2e-5),\n",
    "              metrics=['acc'])\n",
    "\n",
    "history = model3.fit_generator(\n",
    "      train_generator,\n",
    "      steps_per_epoch=100,\n",
    "      epochs=30,\n",
    "      validation_data=validation_generator,\n",
    "      validation_steps=50,\n",
    "      verbose=2)"
   ]
  },
  {
   "cell_type": "code",
   "execution_count": 68,
   "id": "finite-shaft",
   "metadata": {},
   "outputs": [],
   "source": [
    "model3.save('bb_class_pretrained.h5')"
   ]
  },
  {
   "cell_type": "code",
   "execution_count": 69,
   "id": "typical-sussex",
   "metadata": {},
   "outputs": [
    {
     "data": {
      "image/png": "[encoded data removed]",
      "text/plain": [
       "<Figure size 432x288 with 1 Axes>"
      ]
     },
     "metadata": {
      "needs_background": "light"
     },
     "output_type": "display_data"
    },
    {
     "data": {
      "image/png": "[encoded data removed]",
      "text/plain": [
       "<Figure size 432x288 with 1 Axes>"
      ]
     },
     "metadata": {
      "needs_background": "light"
     },
     "output_type": "display_data"
    }
   ],
   "source": [
    "acc = history.history['acc']\n",
    "val_acc = history.history['val_acc']\n",
    "loss = history.history['loss']\n",
    "val_loss = history.history['val_loss']\n",
    "\n",
    "epochs = range(len(acc))\n",
    "\n",
    "plt.plot(epochs, acc, 'bo', label='Training acc')\n",
    "plt.plot(epochs, val_acc, 'b', label='Validation acc')\n",
    "plt.title('Training and validation accuracy')\n",
    "plt.legend()\n",
    "\n",
    "plt.figure()\n",
    "\n",
    "plt.plot(epochs, loss, 'bo', label='Training loss')\n",
    "plt.plot(epochs, val_loss, 'b', label='Validation loss')\n",
    "plt.title('Training and validation loss')\n",
    "plt.legend()\n",
    "\n",
    "plt.show()"
   ]
  },
  {
   "cell_type": "markdown",
   "id": "stuffed-halifax",
   "metadata": {},
   "source": [
    "### Fine-tuning\n"
   ]
  },
  {
   "cell_type": "code",
   "execution_count": 70,
   "id": "lined-basket",
   "metadata": {},
   "outputs": [
    {
     "name": "stdout",
     "output_type": "stream",
     "text": [
      "Model: \"vgg16\"\n",
      "_________________________________________________________________\n",
      "Layer (type)                 Output Shape              Param #   \n",
      "=================================================================\n",
      "input_2 (InputLayer)         [(None, 150, 150, 3)]     0         \n",
      "_________________________________________________________________\n",
      "block1_conv1 (Conv2D)        (None, 150, 150, 64)      1792      \n",
      "_________________________________________________________________\n",
      "block1_conv2 (Conv2D)        (None, 150, 150, 64)      36928     \n",
      "_________________________________________________________________\n",
      "block1_pool (MaxPooling2D)   (None, 75, 75, 64)        0         \n",
      "_________________________________________________________________\n",
      "block2_conv1 (Conv2D)        (None, 75, 75, 128)       73856     \n",
      "_________________________________________________________________\n",
      "block2_conv2 (Conv2D)        (None, 75, 75, 128)       147584    \n",
      "_________________________________________________________________\n",
      "block2_pool (MaxPooling2D)   (None, 37, 37, 128)       0         \n",
      "_________________________________________________________________\n",
      "block3_conv1 (Conv2D)        (None, 37, 37, 256)       295168    \n",
      "_________________________________________________________________\n",
      "block3_conv2 (Conv2D)        (None, 37, 37, 256)       590080    \n",
      "_________________________________________________________________\n",
      "block3_conv3 (Conv2D)        (None, 37, 37, 256)       590080    \n",
      "_________________________________________________________________\n",
      "block3_pool (MaxPooling2D)   (None, 18, 18, 256)       0         \n",
      "_________________________________________________________________\n",
      "block4_conv1 (Conv2D)        (None, 18, 18, 512)       1180160   \n",
      "_________________________________________________________________\n",
      "block4_conv2 (Conv2D)        (None, 18, 18, 512)       2359808   \n",
      "_________________________________________________________________\n",
      "block4_conv3 (Conv2D)        (None, 18, 18, 512)       2359808   \n",
      "_________________________________________________________________\n",
      "block4_pool (MaxPooling2D)   (None, 9, 9, 512)         0         \n",
      "_________________________________________________________________\n",
      "block5_conv1 (Conv2D)        (None, 9, 9, 512)         2359808   \n",
      "_________________________________________________________________\n",
      "block5_conv2 (Conv2D)        (None, 9, 9, 512)         2359808   \n",
      "_________________________________________________________________\n",
      "block5_conv3 (Conv2D)        (None, 9, 9, 512)         2359808   \n",
      "_________________________________________________________________\n",
      "block5_pool (MaxPooling2D)   (None, 4, 4, 512)         0         \n",
      "=================================================================\n",
      "Total params: 14,714,688\n",
      "Trainable params: 0\n",
      "Non-trainable params: 14,714,688\n",
      "_________________________________________________________________\n"
     ]
    }
   ],
   "source": [
    "conv_base.summary()"
   ]
  },
  {
   "cell_type": "code",
   "execution_count": 71,
   "id": "composite-yeast",
   "metadata": {},
   "outputs": [],
   "source": [
    "\n",
    "conv_base.trainable = True\n",
    "\n",
    "set_trainable = False\n",
    "for layer in conv_base.layers:\n",
    "    if layer.name == 'block5_conv1':\n",
    "        set_trainable = True\n",
    "    if set_trainable:\n",
    "        layer.trainable = True\n",
    "    else:\n",
    "        layer.trainable = False"
   ]
  },
  {
   "cell_type": "code",
   "execution_count": 78,
   "id": "figured-format",
   "metadata": {},
   "outputs": [
    {
     "name": "stdout",
     "output_type": "stream",
     "text": [
      "Model: \"vgg16\"\n",
      "_________________________________________________________________\n",
      "Layer (type)                 Output Shape              Param #   \n",
      "=================================================================\n",
      "input_2 (InputLayer)         [(None, 150, 150, 3)]     0         \n",
      "_________________________________________________________________\n",
      "block1_conv1 (Conv2D)        (None, 150, 150, 64)      1792      \n",
      "_________________________________________________________________\n",
      "block1_conv2 (Conv2D)        (None, 150, 150, 64)      36928     \n",
      "_________________________________________________________________\n",
      "block1_pool (MaxPooling2D)   (None, 75, 75, 64)        0         \n",
      "_________________________________________________________________\n",
      "block2_conv1 (Conv2D)        (None, 75, 75, 128)       73856     \n",
      "_________________________________________________________________\n",
      "block2_conv2 (Conv2D)        (None, 75, 75, 128)       147584    \n",
      "_________________________________________________________________\n",
      "block2_pool (MaxPooling2D)   (None, 37, 37, 128)       0         \n",
      "_________________________________________________________________\n",
      "block3_conv1 (Conv2D)        (None, 37, 37, 256)       295168    \n",
      "_________________________________________________________________\n",
      "block3_conv2 (Conv2D)        (None, 37, 37, 256)       590080    \n",
      "_________________________________________________________________\n",
      "block3_conv3 (Conv2D)        (None, 37, 37, 256)       590080    \n",
      "_________________________________________________________________\n",
      "block3_pool (MaxPooling2D)   (None, 18, 18, 256)       0         \n",
      "_________________________________________________________________\n",
      "block4_conv1 (Conv2D)        (None, 18, 18, 512)       1180160   \n",
      "_________________________________________________________________\n",
      "block4_conv2 (Conv2D)        (None, 18, 18, 512)       2359808   \n",
      "_________________________________________________________________\n",
      "block4_conv3 (Conv2D)        (None, 18, 18, 512)       2359808   \n",
      "_________________________________________________________________\n",
      "block4_pool (MaxPooling2D)   (None, 9, 9, 512)         0         \n",
      "_________________________________________________________________\n",
      "block5_conv1 (Conv2D)        (None, 9, 9, 512)         2359808   \n",
      "_________________________________________________________________\n",
      "block5_conv2 (Conv2D)        (None, 9, 9, 512)         2359808   \n",
      "_________________________________________________________________\n",
      "block5_conv3 (Conv2D)        (None, 9, 9, 512)         2359808   \n",
      "_________________________________________________________________\n",
      "block5_pool (MaxPooling2D)   (None, 4, 4, 512)         0         \n",
      "=================================================================\n",
      "Total params: 14,714,688\n",
      "Trainable params: 7,079,424\n",
      "Non-trainable params: 7,635,264\n",
      "_________________________________________________________________\n"
     ]
    }
   ],
   "source": [
    "conv_base.summary()"
   ]
  },
  {
   "cell_type": "code",
   "execution_count": 72,
   "id": "provincial-verification",
   "metadata": {},
   "outputs": [
    {
     "name": "stdout",
     "output_type": "stream",
     "text": [
      "Epoch 1/30\n",
      "100/100 [==============================] - 457s 5s/step - loss: 0.4501 - acc: 0.7952 - val_loss: 0.4266 - val_acc: 0.8040\n",
      "Epoch 2/30\n",
      "100/100 [==============================] - 449s 4s/step - loss: 0.3788 - acc: 0.8399 - val_loss: 0.3781 - val_acc: 0.8390\n",
      "Epoch 3/30\n",
      "100/100 [==============================] - 422s 4s/step - loss: 0.3559 - acc: 0.8571 - val_loss: 0.4192 - val_acc: 0.8250\n",
      "Epoch 4/30\n",
      "100/100 [==============================] - 438s 4s/step - loss: 0.4112 - acc: 0.8282 - val_loss: 0.3498 - val_acc: 0.8590\n",
      "Epoch 5/30\n",
      "100/100 [==============================] - 442s 4s/step - loss: 0.3845 - acc: 0.8435 - val_loss: 0.3472 - val_acc: 0.8440\n",
      "Epoch 6/30\n",
      "100/100 [==============================] - 426s 4s/step - loss: 0.3496 - acc: 0.8493 - val_loss: 0.4563 - val_acc: 0.8230\n",
      "Epoch 7/30\n",
      "100/100 [==============================] - 426s 4s/step - loss: 0.3539 - acc: 0.8464 - val_loss: 0.3413 - val_acc: 0.8560\n",
      "Epoch 8/30\n",
      "100/100 [==============================] - 467s 5s/step - loss: 0.3111 - acc: 0.8767 - val_loss: 0.3298 - val_acc: 0.8620\n",
      "Epoch 9/30\n",
      "100/100 [==============================] - 442s 4s/step - loss: 0.3177 - acc: 0.8737 - val_loss: 0.3409 - val_acc: 0.8550\n",
      "Epoch 10/30\n",
      "100/100 [==============================] - 457s 5s/step - loss: 0.3197 - acc: 0.8717 - val_loss: 0.3492 - val_acc: 0.8630\n",
      "Epoch 11/30\n",
      "100/100 [==============================] - 452s 5s/step - loss: 0.3276 - acc: 0.8564 - val_loss: 0.3499 - val_acc: 0.8480\n",
      "Epoch 12/30\n",
      "100/100 [==============================] - 446s 4s/step - loss: 0.2746 - acc: 0.8809 - val_loss: 0.3594 - val_acc: 0.8550\n",
      "Epoch 13/30\n",
      "100/100 [==============================] - 450s 5s/step - loss: 0.3149 - acc: 0.8750 - val_loss: 0.3185 - val_acc: 0.8670\n",
      "Epoch 14/30\n",
      "100/100 [==============================] - 425s 4s/step - loss: 0.2983 - acc: 0.8834 - val_loss: 0.3206 - val_acc: 0.8770\n",
      "Epoch 15/30\n",
      "100/100 [==============================] - 423s 4s/step - loss: 0.3125 - acc: 0.8787 - val_loss: 0.4112 - val_acc: 0.8450\n",
      "Epoch 16/30\n",
      "100/100 [==============================] - 437s 4s/step - loss: 0.2742 - acc: 0.8805 - val_loss: 0.3715 - val_acc: 0.8530\n",
      "Epoch 17/30\n",
      "100/100 [==============================] - 427s 4s/step - loss: 0.2705 - acc: 0.8831 - val_loss: 0.3433 - val_acc: 0.8530\n",
      "Epoch 18/30\n",
      "100/100 [==============================] - 421s 4s/step - loss: 0.2757 - acc: 0.8882 - val_loss: 0.3095 - val_acc: 0.8790\n",
      "Epoch 19/30\n",
      "100/100 [==============================] - 428s 4s/step - loss: 0.2358 - acc: 0.9138 - val_loss: 0.2992 - val_acc: 0.8730\n",
      "Epoch 20/30\n",
      "100/100 [==============================] - 434s 4s/step - loss: 0.2395 - acc: 0.9146 - val_loss: 0.2959 - val_acc: 0.8830\n",
      "Epoch 21/30\n",
      "100/100 [==============================] - 439s 4s/step - loss: 0.2413 - acc: 0.8959 - val_loss: 0.2758 - val_acc: 0.8880\n",
      "Epoch 22/30\n",
      "100/100 [==============================] - 428s 4s/step - loss: 0.2476 - acc: 0.8866 - val_loss: 0.2944 - val_acc: 0.8930\n",
      "Epoch 23/30\n",
      "100/100 [==============================] - 427s 4s/step - loss: 0.2164 - acc: 0.9099 - val_loss: 0.2969 - val_acc: 0.8700\n",
      "Epoch 24/30\n",
      "100/100 [==============================] - 465s 5s/step - loss: 0.2384 - acc: 0.9004 - val_loss: 0.3014 - val_acc: 0.8760\n",
      "Epoch 25/30\n",
      "100/100 [==============================] - 494s 5s/step - loss: 0.2665 - acc: 0.8925 - val_loss: 0.2736 - val_acc: 0.8920\n",
      "Epoch 26/30\n",
      "100/100 [==============================] - 429s 4s/step - loss: 0.2251 - acc: 0.9133 - val_loss: 0.3000 - val_acc: 0.8760\n",
      "Epoch 27/30\n",
      "100/100 [==============================] - 421s 4s/step - loss: 0.2186 - acc: 0.9047 - val_loss: 0.2782 - val_acc: 0.8780\n",
      "Epoch 28/30\n",
      "100/100 [==============================] - 422s 4s/step - loss: 0.2343 - acc: 0.9131 - val_loss: 0.2870 - val_acc: 0.8800\n",
      "Epoch 29/30\n",
      "100/100 [==============================] - 447s 4s/step - loss: 0.2083 - acc: 0.9124 - val_loss: 0.3043 - val_acc: 0.8790\n",
      "Epoch 30/30\n",
      "100/100 [==============================] - 450s 5s/step - loss: 0.2208 - acc: 0.9228 - val_loss: 0.2792 - val_acc: 0.8840\n"
     ]
    }
   ],
   "source": [
    "\n",
    "model3.compile(loss='binary_crossentropy',\n",
    "              optimizer=optimizers.RMSprop(lr=1e-5),\n",
    "              metrics=['acc'])\n",
    "\n",
    "history = model3.fit_generator(\n",
    "      train_generator,\n",
    "      steps_per_epoch=100,\n",
    "      epochs=30,\n",
    "      validation_data=validation_generator,\n",
    "      validation_steps=50)"
   ]
  },
  {
   "cell_type": "code",
   "execution_count": 73,
   "id": "unlikely-serum",
   "metadata": {},
   "outputs": [],
   "source": [
    "\n",
    "model3.save('bb_class_fine_tuning.h5')"
   ]
  },
  {
   "cell_type": "code",
   "execution_count": 74,
   "id": "bridal-refund",
   "metadata": {},
   "outputs": [
    {
     "data": {
      "image/png": "[encoded data removed]",
      "text/plain": [
       "<Figure size 432x288 with 1 Axes>"
      ]
     },
     "metadata": {
      "needs_background": "light"
     },
     "output_type": "display_data"
    },
    {
     "data": {
      "image/png": "[encoded data removed]",
      "text/plain": [
       "<Figure size 432x288 with 1 Axes>"
      ]
     },
     "metadata": {
      "needs_background": "light"
     },
     "output_type": "display_data"
    }
   ],
   "source": [
    "acc = history.history['acc']\n",
    "val_acc = history.history['val_acc']\n",
    "loss = history.history['loss']\n",
    "val_loss = history.history['val_loss']\n",
    "\n",
    "epochs = range(len(acc))\n",
    "\n",
    "plt.plot(epochs, acc, 'bo', label='Training acc')\n",
    "plt.plot(epochs, val_acc, 'b', label='Validation acc')\n",
    "plt.title('Training and validation accuracy')\n",
    "plt.legend()\n",
    "\n",
    "plt.figure()\n",
    "\n",
    "plt.plot(epochs, loss, 'bo', label='Training loss')\n",
    "plt.plot(epochs, val_loss, 'b', label='Validation loss')\n",
    "plt.title('Training and validation loss')\n",
    "plt.legend()\n",
    "\n",
    "plt.show()"
   ]
  },
  {
   "cell_type": "markdown",
   "id": "noted-forward",
   "metadata": {},
   "source": [
    "### Convolutional NN w/ Pre-Trained Model + Feature Extraction & Tuning: VGG16 - RESULTS"
   ]
  },
  {
   "cell_type": "code",
   "execution_count": 75,
   "id": "tamil-opportunity",
   "metadata": {},
   "outputs": [
    {
     "name": "stderr",
     "output_type": "stream",
     "text": [
      "C:\\Users\\const\\anaconda3\\envs\\triskelion\\lib\\site-packages\\tensorflow\\python\\keras\\engine\\training.py:1877: UserWarning: `Model.evaluate_generator` is deprecated and will be removed in a future version. Please use `Model.evaluate`, which supports generators.\n",
      "  warnings.warn('`Model.evaluate_generator` is deprecated and '\n"
     ]
    },
    {
     "name": "stdout",
     "output_type": "stream",
     "text": [
      "test acc: 0.8799999952316284\n"
     ]
    }
   ],
   "source": [
    "test_loss, test_acc = model3.evaluate_generator(test_generator, steps=50)\n",
    "print('test acc:', test_acc)"
   ]
  },
  {
   "cell_type": "code",
   "execution_count": 76,
   "id": "corrected-story",
   "metadata": {},
   "outputs": [
    {
     "name": "stderr",
     "output_type": "stream",
     "text": [
      "C:\\Users\\const\\anaconda3\\envs\\triskelion\\lib\\site-packages\\tensorflow\\python\\keras\\engine\\training.py:1905: UserWarning: `Model.predict_generator` is deprecated and will be removed in a future version. Please use `Model.predict`, which supports generators.\n",
      "  warnings.warn('`Model.predict_generator` is deprecated and '\n"
     ]
    },
    {
     "name": "stdout",
     "output_type": "stream",
     "text": [
      "Confusion Matrix\n",
      "Confusion matrix, without normalization\n"
     ]
    },
    {
     "data": {
      "image/png": "[encoded data removed]",
      "text/plain": [
       "<Figure size 720x720 with 2 Axes>"
      ]
     },
     "metadata": {
      "needs_background": "light"
     },
     "output_type": "display_data"
    }
   ],
   "source": [
    "#Confution Matrix \n",
    "\n",
    "Y_pred = model3.predict_generator(test_generator)\n",
    "y_pred_r = np.round(Y_pred)\n",
    "flat_list = [item for sublist in y_pred_r for item in sublist]\n",
    "y_pred = [int(a) for a in flat_list]\n",
    "\n",
    "print('Confusion Matrix')\n",
    "\n",
    "cm = confusion_matrix(test_generator.classes, y_pred)\n",
    "plot_confusion_matrix(cm, target_names, title='Confusion Matrix')"
   ]
  },
  {
   "cell_type": "code",
   "execution_count": 77,
   "id": "previous-material",
   "metadata": {},
   "outputs": [
    {
     "name": "stdout",
     "output_type": "stream",
     "text": [
      "Classification Report\n",
      "              precision    recall  f1-score   support\n",
      "\n",
      "      benign       0.88      0.76      0.81       372\n",
      "   malignant       0.89      0.95      0.92       813\n",
      "\n",
      "    accuracy                           0.89      1185\n",
      "   macro avg       0.89      0.85      0.87      1185\n",
      "weighted avg       0.89      0.89      0.89      1185\n",
      "\n"
     ]
    }
   ],
   "source": [
    "#Print Classification Report\n",
    "\n",
    "print('Classification Report')\n",
    "print(classification_report(test_generator.classes, y_pred, target_names=target_names))"
   ]
  }
 ],
 "metadata": {
  "kernelspec": {
   "display_name": "Python 3",
   "language": "python",
   "name": "python3"
  },
  "language_info": {
   "codemirror_mode": {
    "name": "ipython",
    "version": 3
   },
   "file_extension": ".py",
   "mimetype": "text/x-python",
   "name": "python",
   "nbconvert_exporter": "python",
   "pygments_lexer": "ipython3",
   "version": "3.6.12"
  }
 },
 "nbformat": 4,
 "nbformat_minor": 5
}
